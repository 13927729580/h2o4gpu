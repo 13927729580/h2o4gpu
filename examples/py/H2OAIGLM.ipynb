{
 "cells": [
  {
   "cell_type": "code",
   "execution_count": 1,
   "metadata": {
    "collapsed": false,
    "deletable": true,
    "editable": true
   },
   "outputs": [
    {
     "name": "stdout",
     "output_type": "stream",
     "text": [
      "\n",
      "Warning: POGS CPU shared object (dynamic library) not found at /home/arno/.pyenv/versions/3.6.0/envs/h2oai/lib/python3.6/site-packages/pogs/libs/../../cpogs_cpu.so\n",
      "\n",
      "Loaded POGS GPU library.\n",
      "\n",
      "Warning: Cannot create a POGS CPU Solver instance without linking Python module to a compiled POGS CPU library\n",
      "> Setting pogs.SolverCPU=None\n",
      "\n",
      "Warning: POGS Elastic Net CPU shared object (dynamic library) not found at /home/arno/.pyenv/versions/3.6.0/envs/h2oai/lib/python3.6/site-packages/pogs/libs/../../cpogs_cpu.so\n",
      "\n",
      "Warning: Cannot create a POGS Elastic Net CPU Solver instance without linking Python module to a compiled POGS CPU library\n",
      "> Setting pogs.ElasticNetSolverCPU=None\n",
      "> Use pogs.ElasticNetSolverGPU(args...) and re-run setup.py\n",
      "\n",
      "\n"
     ]
    }
   ],
   "source": [
    "#%reset -f\n",
    "%matplotlib inline\n",
    "import os\n",
    "import sys\n",
    "import pandas as pd\n",
    "import numpy as np\n",
    "import feather\n",
    "import time\n",
    "import pogs as pogs"
   ]
  },
  {
   "cell_type": "markdown",
   "metadata": {
    "deletable": true,
    "editable": true
   },
   "source": [
    "### Import Data Frame and create raw X and y arrays"
   ]
  },
  {
   "cell_type": "code",
   "execution_count": 2,
   "metadata": {
    "collapsed": false,
    "deletable": true,
    "editable": true
   },
   "outputs": [
    {
     "name": "stdout",
     "output_type": "stream",
     "text": [
      "Please download https://drive.google.com/file/d/0By-R0tLVMSykckNocHZPeEN1VU0/view?usp=sharing\n",
      "Time to read data via feather: 7.2249815464019775\n"
     ]
    }
   ],
   "source": [
    "t0 = time.time()\n",
    "if not os.path.exists(\"../R/ipums_200-2015.csv\"):\n",
    "    print(\"Please download https://drive.google.com/file/d/0By-R0tLVMSykckNocHZPeEN1VU0/view?usp=sharing\")\n",
    "if not os.path.exists(\"ipums.feather\"):\n",
    "    !R -f ../R/ipums_prep.R \n",
    "df = feather.read_dataframe(\"ipums.feather\")\n",
    "#df = pd.read_csv(\"../R/data.csv\")\n",
    "t1 = time.time()\n",
    "print(\"Time to read data via feather: %r\" % (t1-t0))"
   ]
  },
  {
   "cell_type": "code",
   "execution_count": 3,
   "metadata": {
    "collapsed": false,
    "deletable": true,
    "editable": true
   },
   "outputs": [],
   "source": [
    "target = df.columns[-1] ## last column is the response\n",
    "cols = [c for c in df.columns if c != target]"
   ]
  },
  {
   "cell_type": "code",
   "execution_count": 4,
   "metadata": {
    "collapsed": false,
    "deletable": true,
    "editable": true
   },
   "outputs": [
    {
     "name": "stdout",
     "output_type": "stream",
     "text": [
      "(55776, 9732)\n",
      "(55776,)\n"
     ]
    }
   ],
   "source": [
    "X = np.array(df.ix[:,cols])\n",
    "y = df[target].values\n",
    "print(X.shape)\n",
    "print(y.shape)"
   ]
  },
  {
   "cell_type": "markdown",
   "metadata": {
    "deletable": true,
    "editable": true
   },
   "source": [
    "### H2O AI GLM using the GPU Pointers"
   ]
  },
  {
   "cell_type": "code",
   "execution_count": 5,
   "metadata": {
    "collapsed": false,
    "deletable": true,
    "editable": true
   },
   "outputs": [
    {
     "name": "stdout",
     "output_type": "stream",
     "text": [
      "44620\n",
      "11156\n",
      "9732\n"
     ]
    }
   ],
   "source": [
    "sourceDev = 0\n",
    "gpu=True\n",
    "nThreads = 2\n",
    "nGPUs = 2\n",
    "intercept = 1\n",
    "lambda_min_ratio = 1e-4\n",
    "nLambdas = 100\n",
    "nAlphas = 1\n",
    "\n",
    "H = (int)(0.8*X.shape[0])\n",
    "\n",
    "trainX = X[:H,:]\n",
    "trainY = y[:H]\n",
    "\n",
    "validX = X[H:,:]\n",
    "validY = y[H:]\n",
    "\n",
    "## TODO: compute these in C++ (CPU or GPU)\n",
    "lambda_max0 = max(abs(trainX.T.dot(trainY)))\n",
    "sdTrainY = np.sqrt(np.var(trainY))\n",
    "meanTrainY = np.mean(trainY)\n",
    "mTrain = trainX.shape[0]\n",
    "mValid = validX.shape[0]\n",
    "n = trainX.shape[1]\n",
    "print(mTrain)\n",
    "print(mValid)\n",
    "print(n)"
   ]
  },
  {
   "cell_type": "code",
   "execution_count": 6,
   "metadata": {
    "collapsed": false,
    "deletable": true,
    "editable": true
   },
   "outputs": [],
   "source": [
    "Solver = pogs.ElasticNetSolverGPU if gpu else pogs.ElasticNetSolverCPU\n",
    "enet = Solver(nThreads, nGPUs, 'r', intercept, lambda_min_ratio, nLambdas, nAlphas)"
   ]
  },
  {
   "cell_type": "code",
   "execution_count": 7,
   "metadata": {
    "collapsed": false,
    "deletable": true,
    "editable": true
   },
   "outputs": [
    {
     "name": "stderr",
     "output_type": "stream",
     "text": [
      "/home/arno/.pyenv/versions/3.6.0/envs/h2oai/lib/python3.6/site-packages/pogs/solvers/elastic_net_base.py:19: FutureWarning: comparison to `None` will result in an elementwise object comparison in the future.\n",
      "  mValid = validX.shape[0] if validX != None else 0\n",
      "/home/arno/.pyenv/versions/3.6.0/envs/h2oai/lib/python3.6/site-packages/pogs/solvers/elastic_net_base.py:27: FutureWarning: comparison to `None` will result in an elementwise object comparison in the future.\n",
      "  C = cptr(validX,c_double) if validX != None else A\n",
      "/home/arno/.pyenv/versions/3.6.0/envs/h2oai/lib/python3.6/site-packages/pogs/solvers/elastic_net_base.py:28: FutureWarning: comparison to `None` will result in an elementwise object comparison in the future.\n",
      "  D = cptr(validY,c_double) if validX != None else B\n"
     ]
    },
    {
     "name": "stdout",
     "output_type": "stream",
     "text": [
      "c_void_p(1112589467648)\n",
      "c_void_p(1116063402496)\n",
      "c_void_p(1116064448512)\n",
      "c_void_p(1116934766592)\n"
     ]
    }
   ],
   "source": [
    "a,b,c,d = enet.upload_data(sourceDev, trainX, trainY, validX, validY)"
   ]
  },
  {
   "cell_type": "code",
   "execution_count": null,
   "metadata": {
    "collapsed": true,
    "deletable": true,
    "editable": true
   },
   "outputs": [],
   "source": [
    "t0 = time.time()\n",
    "enet.fit(sourceDev, mTrain, n, mValid, lambda_max0, sdTrainY, meanTrainY, a, b, c, d)\n",
    "t1 = time.time()\n",
    "print(\"Time to train H2O AI GLM: %r\" % (t1-t0))"
   ]
  }
 ],
 "metadata": {
  "kernelspec": {
   "display_name": "Python 3",
   "language": "python",
   "name": "python3"
  },
  "language_info": {
   "codemirror_mode": {
    "name": "ipython",
    "version": 3
   },
   "file_extension": ".py",
   "mimetype": "text/x-python",
   "name": "python",
   "nbconvert_exporter": "python",
   "pygments_lexer": "ipython3",
   "version": "3.6.0"
  }
 },
 "nbformat": 4,
 "nbformat_minor": 2
}
