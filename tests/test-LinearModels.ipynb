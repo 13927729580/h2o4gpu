{
 "cells": [
  {
   "cell_type": "code",
   "execution_count": 1,
   "metadata": {},
   "outputs": [],
   "source": [
    "import time\n",
    "import numpy as np\n",
    "import pandas as pd\n",
    "import matplotlib.pyplot as plt\n",
    "%matplotlib inline\n",
    "%config InlineBackend.figure_format = 'retina'\n",
    "\n",
    "from sklearn import datasets\n",
    "from sklearn import linear_model\n",
    "from sklearn.svm import l1_min_c\n",
    "#from sklearn.linear_model import LinearRegression\n",
    "\n",
    "import h2o4gpu"
   ]
  },
  {
   "cell_type": "markdown",
   "metadata": {},
   "source": [
    "## Linear Regression"
   ]
  },
  {
   "cell_type": "code",
   "execution_count": 2,
   "metadata": {},
   "outputs": [
    {
     "name": "stdout",
     "output_type": "stream",
     "text": [
      "Linear Regression\n",
      "Predicted: [[ 39.93816196  41.93188356]]\n",
      "Coefficients: [[  1.9937216   10.03233797]]\n",
      "------------\n",
      "scikit-learn\n",
      "Predicted: [ 40.  42.]\n",
      "Coefficients: [ 2.]\n"
     ]
    }
   ],
   "source": [
    "# y = ax + b\n",
    "\n",
    "X = np.array([1,2,3,4,5,6,7,8,9,10])\n",
    "X = X.astype(float)\n",
    "\n",
    "y = 2*X + 10\n",
    "\n",
    "X = X[:, np.newaxis]\n",
    "X = np.hstack([X, np.ones((X.shape[0],1), dtype=X.dtype)])\n",
    "\n",
    "lm = h2o4gpu.LinearRegression()\n",
    "lm.fit(X, y)\n",
    "\n",
    "print('Linear Regression')\n",
    "print('Predicted:', lm.predict(np.array([[15.0, 1.0], [16.0, 1.0]])))\n",
    "print('Coefficients:', lm.X)\n",
    "\n",
    "# sklearn\n",
    "X = np.array([1,2,3,4,5,6,7,8,9,10])\n",
    "X = X[:, np.newaxis]\n",
    "# Values to predict\n",
    "X_test = np.array([15, 16])\n",
    "X_test = X_test[:, np.newaxis]\n",
    "\n",
    "sk_lm = linear_model.LinearRegression()\n",
    "sk_lm.fit(X, np.transpose(y))\n",
    "\n",
    "print('------------')\n",
    "print('scikit-learn')\n",
    "print('Predicted:', sk_lm.predict(X_test))\n",
    "print('Coefficients:', sk_lm.coef_)"
   ]
  },
  {
   "cell_type": "markdown",
   "metadata": {},
   "source": [
    "## Logistic Regression"
   ]
  },
  {
   "cell_type": "code",
   "execution_count": 57,
   "metadata": {},
   "outputs": [
    {
     "data": {
      "text/plain": [
       "2    50\n",
       "1    50\n",
       "0    50\n",
       "Name: 0, dtype: int64"
      ]
     },
     "execution_count": 57,
     "metadata": {},
     "output_type": "execute_result"
    }
   ],
   "source": [
    "iris = datasets.load_iris()\n",
    "\n",
    "X = iris.data\n",
    "y = iris.target\n",
    "\n",
    "dfX = pd.DataFrame(X)\n",
    "dfy = pd.DataFrame(y)\n",
    "\n",
    "dfy.loc[:,0].value_counts()"
   ]
  },
  {
   "cell_type": "code",
   "execution_count": 58,
   "metadata": {},
   "outputs": [],
   "source": [
    "# making it a binary problem\n",
    "X = X[y != 2]\n",
    "y = y[y != 2]\n",
    "\n",
    "# subtracting the mean\n",
    "X -= np.mean(X, 0)"
   ]
  },
  {
   "cell_type": "code",
   "execution_count": 59,
   "metadata": {},
   "outputs": [],
   "source": [
    "X_test = X[np.r_[40:50,90:100]]\n",
    "y_test = y[np.r_[40:50,90:100]]\n",
    "X = X[np.r_[:40,50:90]]\n",
    "y = y[np.r_[:40,50:90]]"
   ]
  },
  {
   "cell_type": "code",
   "execution_count": 60,
   "metadata": {
    "collapsed": true
   },
   "outputs": [],
   "source": [
    "cs = l1_min_c(X, y, loss='log') * np.logspace(0, 3)"
   ]
  },
  {
   "cell_type": "code",
   "execution_count": 61,
   "metadata": {},
   "outputs": [
    {
     "data": {
      "text/plain": [
       "array([  0.01751313,   0.02016454,   0.02321736,   0.02673236,\n",
       "         0.03077952,   0.0354394 ,   0.04080476,   0.04698241,\n",
       "         0.05409533,   0.06228512,   0.0717148 ,   0.08257209,\n",
       "         0.09507313,   0.10946676,   0.12603952,   0.14512133,\n",
       "         0.16709203,   0.19238899,   0.2215158 ,   0.25505227,\n",
       "         0.29366601,   0.3381257 ,   0.38931637,   0.44825708,\n",
       "         0.51612114,   0.5942595 ,   0.68422766,   0.78781658,\n",
       "         0.90708839,   1.04441739,   1.20253738,   1.38459601,\n",
       "         1.59421747,   1.83557467,   2.11347223,   2.4334422 ,\n",
       "         2.80185415,   3.22604198,   3.71444989,   4.27680052,\n",
       "         4.92428844,   5.66980305,   6.52818515,   7.51652235,\n",
       "         8.65448925,   9.96473911,  11.47335476,  13.21036789,\n",
       "        15.21035681,  17.51313485])"
      ]
     },
     "execution_count": 61,
     "metadata": {},
     "output_type": "execute_result"
    }
   ],
   "source": [
    "cs"
   ]
  },
  {
   "cell_type": "code",
   "execution_count": 62,
   "metadata": {},
   "outputs": [
    {
     "name": "stdout",
     "output_type": "stream",
     "text": [
      "0.05437636375427246\n"
     ]
    }
   ],
   "source": [
    "start = time.time()\n",
    "clf = linear_model.LogisticRegression(C = 1.0, penalty = 'l1'\n",
    "                         #, tol=1e-6\n",
    "                        )\n",
    "coefs_ = []\n",
    "for c in cs:\n",
    "    clf.set_params(C=c)\n",
    "    clf.fit(X, y)\n",
    "    coefs_.append(clf.coef_.ravel().copy())\n",
    "print(time.time() - start)"
   ]
  },
  {
   "cell_type": "code",
   "execution_count": 63,
   "metadata": {},
   "outputs": [
    {
     "data": {
      "image/png": "[encoded data removed]",
      "text/plain": [
       "<matplotlib.figure.Figure at 0x7f68d68693c8>"
      ]
     },
     "metadata": {
      "image/png": {
       "height": 277,
       "width": 377
      }
     },
     "output_type": "display_data"
    },
    {
     "name": "stdout",
     "output_type": "stream",
     "text": [
      "(50, 4)\n"
     ]
    },
    {
     "data": {
      "text/plain": [
       "array([[ 0.        ,  0.        ,  0.        ,  0.        ],\n",
       "       [ 0.        ,  0.        ,  0.1755772 ,  0.        ],\n",
       "       [ 0.        ,  0.        ,  0.33361698,  0.        ],\n",
       "       [ 0.        ,  0.        ,  0.47966205,  0.        ],\n",
       "       [ 0.        ,  0.        ,  0.61713406,  0.        ],\n",
       "       [ 0.        ,  0.        ,  0.74834557,  0.        ],\n",
       "       [ 0.        ,  0.        ,  0.87489153,  0.        ],\n",
       "       [ 0.        ,  0.        ,  0.99789961,  0.        ],\n",
       "       [ 0.        ,  0.        ,  1.11840165,  0.        ],\n",
       "       [ 0.        ,  0.        ,  1.23686494,  0.        ],\n",
       "       [ 0.        ,  0.        ,  1.35387686,  0.        ],\n",
       "       [ 0.        ,  0.        ,  1.46985041,  0.        ],\n",
       "       [ 0.        ,  0.        ,  1.58511496,  0.        ],\n",
       "       [ 0.        ,  0.        ,  1.69991747,  0.        ],\n",
       "       [ 0.        ,  0.        ,  1.81472145,  0.        ],\n",
       "       [ 0.        ,  0.        ,  1.92948963,  0.        ],\n",
       "       [ 0.        ,  0.        ,  2.04445096,  0.        ],\n",
       "       [ 0.        ,  0.        ,  2.15982042,  0.        ],\n",
       "       [ 0.        ,  0.        ,  2.27560543,  0.        ],\n",
       "       [ 0.        ,  0.        ,  2.3922005 ,  0.        ],\n",
       "       [ 0.        ,  0.        ,  2.50939625,  0.        ],\n",
       "       [ 0.        ,  0.        ,  2.62720221,  0.        ],\n",
       "       [ 0.        ,  0.        ,  2.74730797,  0.        ],\n",
       "       [ 0.        ,  0.        ,  2.86784135,  0.        ],\n",
       "       [ 0.        ,  0.        ,  2.98963903,  0.        ],\n",
       "       [ 0.        ,  0.        ,  3.11017837,  0.        ],\n",
       "       [ 0.        ,  0.        ,  3.23756943,  0.        ],\n",
       "       [ 0.        ,  0.        ,  3.36387712,  0.        ],\n",
       "       [ 0.        ,  0.        ,  3.49086212,  0.        ],\n",
       "       [ 0.        ,  0.        ,  3.61826776,  0.        ],\n",
       "       [ 0.        ,  0.        ,  3.74867307,  0.        ],\n",
       "       [ 0.        ,  0.        ,  3.88833162,  0.        ],\n",
       "       [ 0.        ,  0.        ,  4.02463004,  0.        ],\n",
       "       [ 0.        ,  0.        ,  4.16389911,  0.        ],\n",
       "       [ 0.        ,  0.        ,  4.29873795,  0.        ],\n",
       "       [ 0.        ,  0.        ,  4.44109311,  0.        ],\n",
       "       [ 0.        ,  0.        ,  4.58135619,  0.        ],\n",
       "       [ 0.        ,  0.        ,  4.74765132,  0.        ],\n",
       "       [ 0.        ,  0.        ,  4.89989498,  0.        ],\n",
       "       [ 0.        ,  0.        ,  5.05601127,  0.        ],\n",
       "       [ 0.        ,  0.        ,  5.21988856,  0.        ],\n",
       "       [ 0.        ,  0.        ,  5.35480879,  0.        ],\n",
       "       [ 0.        ,  0.        ,  5.49051079,  0.        ],\n",
       "       [ 0.        ,  0.        ,  5.60613268,  0.        ],\n",
       "       [ 0.        ,  0.        ,  5.77050661,  0.        ],\n",
       "       [ 0.        ,  0.        ,  5.88226787,  0.        ],\n",
       "       [ 0.        ,  0.        ,  6.06002681,  0.        ],\n",
       "       [ 0.        ,  0.        ,  6.1993848 ,  0.        ],\n",
       "       [ 0.        ,  0.        ,  6.32974546,  0.        ],\n",
       "       [ 0.        ,  0.        ,  6.47911323,  0.        ]])"
      ]
     },
     "execution_count": 63,
     "metadata": {},
     "output_type": "execute_result"
    }
   ],
   "source": [
    "coefs_ = np.array(coefs_)\n",
    "plt.plot(np.log10(cs), coefs_)\n",
    "ymin, ymax = plt.ylim()\n",
    "plt.xlabel('log(C)')\n",
    "plt.ylabel('Coefficients')\n",
    "plt.title('Logistic Regression Path')\n",
    "plt.axis('tight')\n",
    "plt.show()\n",
    "print(coefs_.shape)\n",
    "coefs_"
   ]
  },
  {
   "cell_type": "code",
   "execution_count": 64,
   "metadata": {},
   "outputs": [],
   "source": [
    "classification = True\n",
    "lambda_min_ratio = 1e-9 \n",
    "n_folds = 5\n",
    "n_lambdas = 20\n",
    "n_alphas = 3\n",
    "give_full_path = 0\n",
    "n_gpus = 1\n",
    "verbose = 0\n",
    "family = \"logistic\" if classification else \"elasticnet\""
   ]
  },
  {
   "cell_type": "code",
   "execution_count": 66,
   "metadata": {},
   "outputs": [
    {
     "data": {
      "text/plain": [
       "array([0, 0, 0, 0, 0, 0, 0, 0, 0, 0, 1, 1, 1, 1, 1, 1, 1, 1, 1, 1])"
      ]
     },
     "execution_count": 66,
     "metadata": {},
     "output_type": "execute_result"
    }
   ],
   "source": [
    "y_pred = clf.predict(X_test)\n",
    "y_pred"
   ]
  },
  {
   "cell_type": "code",
   "execution_count": 75,
   "metadata": {},
   "outputs": [],
   "source": [
    "logreg = h2o4gpu.LogisticRegression(alpha_max = 1.0\n",
    "                                    , alpha_min = 1.0\n",
    "                                   )"
   ]
  },
  {
   "cell_type": "code",
   "execution_count": 76,
   "metadata": {},
   "outputs": [
    {
     "name": "stdout",
     "output_type": "stream",
     "text": [
      "0.9776768684387207\n"
     ]
    },
    {
     "data": {
      "text/plain": [
       "<h2o4gpu.solvers.logistic.LogisticRegression at 0x7f68d68203c8>"
      ]
     },
     "execution_count": 76,
     "metadata": {},
     "output_type": "execute_result"
    }
   ],
   "source": [
    "start = time.time()\n",
    "model = logreg.fit(X, y)\n",
    "print(time.time() - start)\n",
    "model"
   ]
  },
  {
   "cell_type": "code",
   "execution_count": 77,
   "metadata": {},
   "outputs": [
    {
     "data": {
      "text/plain": [
       "array([[ 0.5163793 ,  0.5907447 ,  0.58417682,  0.55988864,  0.50492926,\n",
       "         0.54436646,  0.47789073,  0.55462687,  0.45261082,  0.49840083,\n",
       "         0.53462668,  0.47810279,  0.50125192,  0.59493801,  0.54116415,\n",
       "         0.50917303,  0.52633727,  0.45435158,  0.602883  ,  0.52891951]])"
      ]
     },
     "execution_count": 77,
     "metadata": {},
     "output_type": "execute_result"
    }
   ],
   "source": [
    "y_pred_h2o = model.predict(X_test)\n",
    "y_pred_h2o\n",
    "model."
   ]
  },
  {
   "cell_type": "code",
   "execution_count": 69,
   "metadata": {},
   "outputs": [
    {
     "name": "stdout",
     "output_type": "stream",
     "text": [
      "Xvsalpha\n",
      "[[-0.5599661  -0.01793422 -0.08567183  0.66957007]]\n",
      "[[-0.5599661  -0.01793422 -0.08567183  0.66957007]]\n",
      "np.shape(Xvsalpha)\n",
      "(1, 4)\n",
      "(1, 4)\n",
      "logloss_train\n",
      "[[ 0.68617965 -1.         -1.        ]]\n",
      "logloss_train\n",
      "[[ 0.68617965 -1.         -1.        ]]\n",
      "Best lambdas\n",
      "[[  1.48219694e-323]]\n",
      "[[  1.48219694e-323]]\n",
      "Best alphas\n",
      "[[ 1.]]\n",
      "[[ 1.]]\n",
      "Best tols\n",
      "[[ 0.01]]\n",
      "[[ 0.01]]\n"
     ]
    }
   ],
   "source": [
    "print(\"Xvsalpha\")\n",
    "print(logreg.x_vs_alphapure)\n",
    "print(model.x_vs_alphapure)\n",
    "\n",
    "print(\"np.shape(Xvsalpha)\")\n",
    "print(np.shape(logreg.x_vs_alphapure))\n",
    "print(np.shape(model.x_vs_alphapure))\n",
    "\n",
    "error_train = logreg.error_vs_alpha\n",
    "if classification:\n",
    "    print(\"logloss_train\")\n",
    "else:\n",
    "    print(\"rmse_train\")\n",
    "print(error_train)\n",
    "\n",
    "error_train = model.error_vs_alpha\n",
    "if classification:\n",
    "    print(\"logloss_train\")\n",
    "else:\n",
    "    print(\"rmse_train\")\n",
    "print(error_train)\n",
    "\n",
    "print(\"Best lambdas\")\n",
    "lambdas = logreg.lambdas_best\n",
    "print(lambdas)\n",
    "print(model.lambdas_best)\n",
    "\n",
    "print(\"Best alphas\")\n",
    "alphas = logreg.alphas_best\n",
    "print(alphas)\n",
    "print(model.alphas_best)\n",
    "\n",
    "print(\"Best tols\")\n",
    "tols = logreg.tols_best\n",
    "print(tols)\n",
    "print(model.tols_best)"
   ]
  },
  {
   "cell_type": "code",
   "execution_count": 70,
   "metadata": {},
   "outputs": [
    {
     "data": {
      "text/plain": [
       "array([[-0.5599661 , -0.01793422, -0.08567183,  0.66957007]])"
      ]
     },
     "execution_count": 70,
     "metadata": {},
     "output_type": "execute_result"
    }
   ],
   "source": [
    "logreg.x_vs_alphapure"
   ]
  },
  {
   "cell_type": "code",
   "execution_count": 71,
   "metadata": {},
   "outputs": [
    {
     "ename": "AttributeError",
     "evalue": "'LogisticRegression' object has no attribute 'x_vs_alpha_lambdapure'",
     "output_type": "error",
     "traceback": [
      "\u001b[0;31m---------------------------------------------------------------------------\u001b[0m",
      "\u001b[0;31mAttributeError\u001b[0m                            Traceback (most recent call last)",
      "\u001b[0;32m<ipython-input-71-13ae504034d8>\u001b[0m in \u001b[0;36m<module>\u001b[0;34m()\u001b[0m\n\u001b[0;32m----> 1\u001b[0;31m \u001b[0mmodel\u001b[0m\u001b[0;34m.\u001b[0m\u001b[0mX_full\u001b[0m\u001b[0;34m\u001b[0m\u001b[0m\n\u001b[0m",
      "\u001b[0;32m~/anaconda3/lib/python3.6/site-packages/h2o4gpu/solvers/elastic_net_base.py\u001b[0m in \u001b[0;36mX_full\u001b[0;34m(self)\u001b[0m\n\u001b[1;32m   1125\u001b[0m     \u001b[0;34m@\u001b[0m\u001b[0mproperty\u001b[0m\u001b[0;34m\u001b[0m\u001b[0m\n\u001b[1;32m   1126\u001b[0m     \u001b[0;32mdef\u001b[0m \u001b[0mX_full\u001b[0m\u001b[0;34m(\u001b[0m\u001b[0mself\u001b[0m\u001b[0;34m)\u001b[0m\u001b[0;34m:\u001b[0m\u001b[0;34m\u001b[0m\u001b[0m\n\u001b[0;32m-> 1127\u001b[0;31m         \u001b[0;32mreturn\u001b[0m \u001b[0mself\u001b[0m\u001b[0;34m.\u001b[0m\u001b[0mx_vs_alpha_lambdapure\u001b[0m\u001b[0;34m\u001b[0m\u001b[0m\n\u001b[0m\u001b[1;32m   1128\u001b[0m \u001b[0;34m\u001b[0m\u001b[0m\n\u001b[1;32m   1129\u001b[0m     \u001b[0;34m@\u001b[0m\u001b[0mproperty\u001b[0m\u001b[0;34m\u001b[0m\u001b[0m\n",
      "\u001b[0;31mAttributeError\u001b[0m: 'LogisticRegression' object has no attribute 'x_vs_alpha_lambdapure'"
     ]
    }
   ],
   "source": [
    "model.X_full"
   ]
  },
  {
   "cell_type": "code",
   "execution_count": 19,
   "metadata": {},
   "outputs": [
    {
     "data": {
      "text/plain": [
       "array([[  4.63047361e-14,  -2.22300390e-14,  -6.35172960e-15,\n",
       "         -3.97275784e-14]])"
      ]
     },
     "execution_count": 19,
     "metadata": {},
     "output_type": "execute_result"
    }
   ],
   "source": [
    "model.X_best"
   ]
  },
  {
   "cell_type": "code",
   "execution_count": 20,
   "metadata": {},
   "outputs": [
    {
     "name": "stdout",
     "output_type": "stream",
     "text": [
      "130.17379236221313\n"
     ]
    },
    {
     "data": {
      "text/plain": [
       "array([[[  3.55727265e-322]],\n",
       "\n",
       "       [[  2.56914136e-322]],\n",
       "\n",
       "       [[  1.82804289e-322]],\n",
       "\n",
       "       [[  1.33397724e-322]],\n",
       "\n",
       "       [[  9.38724727e-323]],\n",
       "\n",
       "       [[  6.91691904e-323]],\n",
       "\n",
       "       [[  4.94065646e-323]],\n",
       "\n",
       "       [[  3.45845952e-323]],\n",
       "\n",
       "       [[  2.47032823e-323]],\n",
       "\n",
       "       [[  1.97626258e-323]],\n",
       "\n",
       "       [[  1.48219694e-323]],\n",
       "\n",
       "       [[  9.88131292e-324]],\n",
       "\n",
       "       [[  4.94065646e-324]],\n",
       "\n",
       "       [[  4.94065646e-324]],\n",
       "\n",
       "       [[  4.94065646e-324]],\n",
       "\n",
       "       [[  4.94065646e-324]],\n",
       "\n",
       "       [[  4.94065646e-324]],\n",
       "\n",
       "       [[  4.94065646e-324]],\n",
       "\n",
       "       [[  4.94065646e-324]],\n",
       "\n",
       "       [[  4.94065646e-324]],\n",
       "\n",
       "       [[  4.94065646e-324]],\n",
       "\n",
       "       [[  4.94065646e-324]],\n",
       "\n",
       "       [[  4.94065646e-324]],\n",
       "\n",
       "       [[  4.94065646e-324]],\n",
       "\n",
       "       [[  4.94065646e-324]],\n",
       "\n",
       "       [[  4.94065646e-324]],\n",
       "\n",
       "       [[  4.94065646e-324]],\n",
       "\n",
       "       [[  4.94065646e-324]],\n",
       "\n",
       "       [[  4.94065646e-324]],\n",
       "\n",
       "       [[  4.94065646e-324]],\n",
       "\n",
       "       [[  4.94065646e-324]],\n",
       "\n",
       "       [[  4.94065646e-324]],\n",
       "\n",
       "       [[  4.94065646e-324]],\n",
       "\n",
       "       [[  4.94065646e-324]],\n",
       "\n",
       "       [[  4.94065646e-324]],\n",
       "\n",
       "       [[  4.94065646e-324]],\n",
       "\n",
       "       [[  4.94065646e-324]],\n",
       "\n",
       "       [[  4.94065646e-324]],\n",
       "\n",
       "       [[  4.94065646e-324]],\n",
       "\n",
       "       [[  4.94065646e-324]],\n",
       "\n",
       "       [[  4.94065646e-324]],\n",
       "\n",
       "       [[  4.94065646e-324]],\n",
       "\n",
       "       [[  4.94065646e-324]],\n",
       "\n",
       "       [[  4.94065646e-324]],\n",
       "\n",
       "       [[  4.94065646e-324]],\n",
       "\n",
       "       [[  4.94065646e-324]],\n",
       "\n",
       "       [[  4.94065646e-324]],\n",
       "\n",
       "       [[  4.94065646e-324]],\n",
       "\n",
       "       [[  4.94065646e-324]],\n",
       "\n",
       "       [[  4.94065646e-324]]])"
      ]
     },
     "execution_count": 20,
     "metadata": {},
     "output_type": "execute_result"
    }
   ],
   "source": [
    "logreg = h2o4gpu.LogisticRegression(alpha_max = 1.0, \n",
    "                                    alpha_min = 1.0,\n",
    "                                    give_full_path = 1,\n",
    "                                    n_lambdas = 50,\n",
    "                                    glm_stop_early = False\n",
    "                                   )\n",
    "start = time.time()\n",
    "logreg.fit(X, y)\n",
    "print(time.time() - start)\n",
    "logreg.lambdas_full"
   ]
  },
  {
   "cell_type": "code",
   "execution_count": 21,
   "metadata": {},
   "outputs": [
    {
     "data": {
      "text/plain": [
       "array([[  5.15642012e-14,  -2.50380863e-14,  -5.06618698e-15,\n",
       "         -4.68184728e-14]])"
      ]
     },
     "execution_count": 21,
     "metadata": {},
     "output_type": "execute_result"
    }
   ],
   "source": [
    "logreg.X_full[49]"
   ]
  },
  {
   "cell_type": "code",
   "execution_count": null,
   "metadata": {
    "collapsed": true
   },
   "outputs": [],
   "source": []
  },
  {
   "cell_type": "code",
   "execution_count": null,
   "metadata": {
    "collapsed": true
   },
   "outputs": [],
   "source": []
  }
 ],
 "metadata": {
  "kernelspec": {
   "display_name": "Python 3",
   "language": "python",
   "name": "python3"
  },
  "language_info": {
   "codemirror_mode": {
    "name": "ipython",
    "version": 3
   },
   "file_extension": ".py",
   "mimetype": "text/x-python",
   "name": "python",
   "nbconvert_exporter": "python",
   "pygments_lexer": "ipython3",
   "version": "3.6.1"
  }
 },
 "nbformat": 4,
 "nbformat_minor": 2
}
