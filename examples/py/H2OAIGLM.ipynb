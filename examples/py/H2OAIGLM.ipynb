{
 "cells": [
  {
   "cell_type": "code",
   "execution_count": 1,
   "metadata": {},
   "outputs": [
    {
     "name": "stdout",
     "output_type": "stream",
     "text": [
      "\n",
      "Loaded H2O4GPU CPU library\n",
      "\n",
      "Loaded H2O4GPU GPU library.\n"
     ]
    }
   ],
   "source": [
    "#%reset -f\n",
    "%matplotlib inline\n",
    "import os\n",
    "import sys\n",
    "import pandas as pd\n",
    "import numpy as np\n",
    "import feather\n",
    "import time\n",
    "import h2o4gpu as h2o4gpu"
   ]
  },
  {
   "cell_type": "markdown",
   "metadata": {},
   "source": [
    "### Import Data Frame and create raw X and y arrays"
   ]
  },
  {
   "cell_type": "code",
   "execution_count": 2,
   "metadata": {
    "scrolled": true
   },
   "outputs": [
    {
     "name": "stdout",
     "output_type": "stream",
     "text": [
      "Time to read data via feather: 4.655881881713867\n"
     ]
    }
   ],
   "source": [
    "t0 = time.time()\n",
    "from os.path import expanduser\n",
    "home = str(expanduser(\"~\"))\n",
    "filepostfix=\"/h2o4gpu-prototypes/glm-bench/ipums.feather\"\n",
    "df = feather.read_dataframe(home+filepostfix)\n",
    "#df = pd.read_csv(\"../R/data.csv\")\n",
    "t1 = time.time()\n",
    "print(\"Time to read data via feather: %r\" % (t1-t0))"
   ]
  },
  {
   "cell_type": "code",
   "execution_count": 3,
   "metadata": {
    "collapsed": true
   },
   "outputs": [],
   "source": [
    "target = df.columns[-1] ## last column is the response\n",
    "cols = [c for c in df.columns if c != target]"
   ]
  },
  {
   "cell_type": "code",
   "execution_count": 4,
   "metadata": {},
   "outputs": [
    {
     "name": "stdout",
     "output_type": "stream",
     "text": [
      "(55776, 9732)\n",
      "(55776,)\n"
     ]
    }
   ],
   "source": [
    "X = np.array(df.ix[:,cols], order='f').astype('float32')\n",
    "y = np.array(df[target].values, dtype='float32')\n",
    "print(X.shape)\n",
    "print(y.shape)"
   ]
  },
  {
   "cell_type": "markdown",
   "metadata": {},
   "source": [
    "### H2O AI GLM using the GPU Pointers"
   ]
  },
  {
   "cell_type": "code",
   "execution_count": 7,
   "metadata": {
    "scrolled": true
   },
   "outputs": [
    {
     "name": "stdout",
     "output_type": "stream",
     "text": [
      "Original m=55776 n=9732\n",
      "fortran=1\n",
      "Size of Train rows=44621 valid rows=11155\n",
      "mTrain=44621 mvalid=11154\n",
      "New n=9733\n"
     ]
    }
   ],
   "source": [
    "nGPUs=2\n",
    "nlambda=100\n",
    "nalpha=16\n",
    "nfolds=5\n",
    "validFraction=0.2\n",
    "\n",
    "# set solver cpu/gpu according to input args\n",
    "if((nGPUs>0) and (h2o4gpu.ElasticNetSolverGPU is None)):\n",
    "    print(\"\\nGPU solver unavailable, using CPU solver\\n\")\n",
    "    nGPUs=0\n",
    "\n",
    "sharedA = 0\n",
    "sourceme = 0\n",
    "sourceDev = 0\n",
    "nThreads = 1 if(nGPUs==0) else nGPUs # not required number of threads, but normal.  Bit more optimal to use 2 threads for CPU, but 1 thread per GPU is optimal.\n",
    "intercept = 1\n",
    "standardize = 0\n",
    "lambda_min_ratio = 1e-7\n",
    "nLambdas = nlambda\n",
    "nAlphas = nalpha\n",
    "nFolds=nfolds\n",
    "\n",
    "if standardize:\n",
    "    print (\"implement standardization transformer\")\n",
    "    exit()\n",
    "\n",
    "# Setup Train/validation Set Split\n",
    "morig = X.shape[0]\n",
    "norig = X.shape[1]\n",
    "print(\"Original m=%d n=%d\" % (morig,norig))\n",
    "fortran = X.flags.f_contiguous\n",
    "print(\"fortran=%d\" % (fortran))\n",
    "\n",
    "\n",
    "# Do train/valid split\n",
    "HO=int(validFraction*morig)\n",
    "H=morig-HO\n",
    "print(\"Size of Train rows=%d valid rows=%d\" % (H,HO))\n",
    "trainX = np.copy(X[0:H,:])\n",
    "trainY = np.copy(y[0:H])\n",
    "validX = np.copy(X[H:-1,:])\n",
    "validY = np.copy(y[H:-1])\n",
    "trainW = np.copy(trainY)*0.0 + 1.0 # constant unity weight\n",
    "\n",
    "mTrain = trainX.shape[0]\n",
    "mvalid = validX.shape[0]\n",
    "print(\"mTrain=%d mvalid=%d\" % (mTrain,mvalid))\n",
    "\n",
    "if intercept==1:\n",
    "    trainX = np.hstack([trainX, np.ones((trainX.shape[0],1),dtype=trainX.dtype)])\n",
    "    validX = np.hstack([validX, np.ones((validX.shape[0],1),dtype=validX.dtype)])\n",
    "    n = trainX.shape[1]\n",
    "    print(\"New n=%d\" % (n))"
   ]
  },
  {
   "cell_type": "code",
   "execution_count": 8,
   "metadata": {},
   "outputs": [
    {
     "name": "stdout",
     "output_type": "stream",
     "text": [
      "Setting up Solver\n",
      "Uploading\n",
      "float32\n",
      "float32\n",
      "float32\n",
      "float32\n",
      "float32\n",
      "Detected np.float32\n",
      "Time to ingest data: 1.3134937286376953\n",
      "Solving\n",
      "single precision fit\n"
     ]
    },
    {
     "ename": "AttributeError",
     "evalue": "'ElasticNetBaseSolver' object has no attribute 'Xvsalphapure'",
     "output_type": "error",
     "traceback": [
      "\u001b[0;31m---------------------------------------------------------------------------\u001b[0m",
      "\u001b[0;31mAttributeError\u001b[0m                            Traceback (most recent call last)",
      "\u001b[0;32m<ipython-input-8-c237e828fd89>\u001b[0m in \u001b[0;36m<module>\u001b[0;34m()\u001b[0m\n\u001b[1;32m     24\u001b[0m \u001b[0mprecision\u001b[0m\u001b[0;34m=\u001b[0m\u001b[0;36m0\u001b[0m\u001b[0;34m\u001b[0m\u001b[0m\n\u001b[1;32m     25\u001b[0m \u001b[0mgivefullpath\u001b[0m\u001b[0;34m=\u001b[0m\u001b[0;36m0\u001b[0m\u001b[0;34m\u001b[0m\u001b[0m\n\u001b[0;32m---> 26\u001b[0;31m \u001b[0menet\u001b[0m\u001b[0;34m.\u001b[0m\u001b[0mfitptr\u001b[0m\u001b[0;34m(\u001b[0m\u001b[0msourceDev\u001b[0m\u001b[0;34m,\u001b[0m \u001b[0mmTrain\u001b[0m\u001b[0;34m,\u001b[0m \u001b[0mn\u001b[0m\u001b[0;34m,\u001b[0m \u001b[0mmvalid\u001b[0m\u001b[0;34m,\u001b[0m \u001b[0mprecision\u001b[0m\u001b[0;34m,\u001b[0m \u001b[0ma\u001b[0m\u001b[0;34m,\u001b[0m \u001b[0mb\u001b[0m\u001b[0;34m,\u001b[0m \u001b[0mc\u001b[0m\u001b[0;34m,\u001b[0m \u001b[0md\u001b[0m\u001b[0;34m,\u001b[0m \u001b[0me\u001b[0m\u001b[0;34m,\u001b[0m \u001b[0mgivefullpath\u001b[0m\u001b[0;34m)\u001b[0m\u001b[0;34m\u001b[0m\u001b[0m\n\u001b[0m\u001b[1;32m     27\u001b[0m \u001b[0mt1\u001b[0m \u001b[0;34m=\u001b[0m \u001b[0mtime\u001b[0m\u001b[0;34m.\u001b[0m\u001b[0mtime\u001b[0m\u001b[0;34m(\u001b[0m\u001b[0;34m)\u001b[0m\u001b[0;34m\u001b[0m\u001b[0m\n\u001b[1;32m     28\u001b[0m \u001b[0mprint\u001b[0m\u001b[0;34m(\u001b[0m\u001b[0;34m\"Done Solving\"\u001b[0m\u001b[0;34m)\u001b[0m\u001b[0;34m\u001b[0m\u001b[0m\n",
      "\u001b[0;32m~/.pyenv/versions/3.6.1/lib/python3.6/site-packages/h2o4gpu/solvers/elastic_net_gpu.py\u001b[0m in \u001b[0;36mfitptr\u001b[0;34m(self, sourceDev, mTrain, n, mValid, precision, a, b, c, d, e, givefullpath)\u001b[0m\n\u001b[1;32m     17\u001b[0m \u001b[0;34m\u001b[0m\u001b[0m\n\u001b[1;32m     18\u001b[0m         \u001b[0;32mdef\u001b[0m \u001b[0mfitptr\u001b[0m\u001b[0;34m(\u001b[0m\u001b[0mself\u001b[0m\u001b[0;34m,\u001b[0m \u001b[0msourceDev\u001b[0m\u001b[0;34m,\u001b[0m \u001b[0mmTrain\u001b[0m\u001b[0;34m,\u001b[0m \u001b[0mn\u001b[0m\u001b[0;34m,\u001b[0m \u001b[0mmValid\u001b[0m\u001b[0;34m,\u001b[0m \u001b[0mprecision\u001b[0m\u001b[0;34m,\u001b[0m \u001b[0ma\u001b[0m\u001b[0;34m,\u001b[0m \u001b[0mb\u001b[0m\u001b[0;34m,\u001b[0m \u001b[0mc\u001b[0m\u001b[0;34m,\u001b[0m \u001b[0md\u001b[0m\u001b[0;34m,\u001b[0m \u001b[0me\u001b[0m\u001b[0;34m,\u001b[0m \u001b[0mgivefullpath\u001b[0m\u001b[0;34m)\u001b[0m\u001b[0;34m:\u001b[0m\u001b[0;34m\u001b[0m\u001b[0m\n\u001b[0;32m---> 19\u001b[0;31m             \u001b[0;32mreturn\u001b[0m \u001b[0mself\u001b[0m\u001b[0;34m.\u001b[0m\u001b[0msolver\u001b[0m\u001b[0;34m.\u001b[0m\u001b[0mfitptr\u001b[0m\u001b[0;34m(\u001b[0m\u001b[0msourceDev\u001b[0m\u001b[0;34m,\u001b[0m \u001b[0mmTrain\u001b[0m\u001b[0;34m,\u001b[0m \u001b[0mn\u001b[0m\u001b[0;34m,\u001b[0m \u001b[0mmValid\u001b[0m\u001b[0;34m,\u001b[0m \u001b[0mprecision\u001b[0m\u001b[0;34m,\u001b[0m \u001b[0ma\u001b[0m\u001b[0;34m,\u001b[0m \u001b[0mb\u001b[0m\u001b[0;34m,\u001b[0m \u001b[0mc\u001b[0m\u001b[0;34m,\u001b[0m \u001b[0md\u001b[0m\u001b[0;34m,\u001b[0m \u001b[0me\u001b[0m\u001b[0;34m,\u001b[0m \u001b[0mgivefullpath\u001b[0m\u001b[0;34m)\u001b[0m\u001b[0;34m\u001b[0m\u001b[0m\n\u001b[0m\u001b[1;32m     20\u001b[0m \u001b[0;34m\u001b[0m\u001b[0m\n\u001b[1;32m     21\u001b[0m         \u001b[0;32mdef\u001b[0m \u001b[0mfit\u001b[0m\u001b[0;34m(\u001b[0m\u001b[0mself\u001b[0m\u001b[0;34m,\u001b[0m \u001b[0mtrainX\u001b[0m\u001b[0;34m,\u001b[0m \u001b[0mtrainY\u001b[0m\u001b[0;34m,\u001b[0m \u001b[0mvalidX\u001b[0m\u001b[0;34m=\u001b[0m\u001b[0mc_void_p\u001b[0m\u001b[0;34m(\u001b[0m\u001b[0;36m0\u001b[0m\u001b[0;34m)\u001b[0m\u001b[0;34m,\u001b[0m \u001b[0mvalidY\u001b[0m\u001b[0;34m=\u001b[0m\u001b[0mc_void_p\u001b[0m\u001b[0;34m(\u001b[0m\u001b[0;36m0\u001b[0m\u001b[0;34m)\u001b[0m\u001b[0;34m,\u001b[0m \u001b[0mweight\u001b[0m\u001b[0;34m=\u001b[0m\u001b[0mc_void_p\u001b[0m\u001b[0;34m(\u001b[0m\u001b[0;36m0\u001b[0m\u001b[0;34m)\u001b[0m\u001b[0;34m,\u001b[0m \u001b[0mgivefullpath\u001b[0m\u001b[0;34m=\u001b[0m\u001b[0;36m0\u001b[0m\u001b[0;34m)\u001b[0m\u001b[0;34m:\u001b[0m\u001b[0;34m\u001b[0m\u001b[0m\n",
      "\u001b[0;32m~/.pyenv/versions/3.6.1/lib/python3.6/site-packages/h2o4gpu/solvers/elastic_net_base.py\u001b[0m in \u001b[0;36mfitptr\u001b[0;34m(self, sourceDev, mTrain, n, mValid, precision, a, b, c, d, e, givefullpath)\u001b[0m\n\u001b[1;32m    224\u001b[0m             \u001b[0;32mreturn\u001b[0m\u001b[0;34m(\u001b[0m\u001b[0mself\u001b[0m\u001b[0;34m.\u001b[0m\u001b[0mXvsalphalambdapure\u001b[0m\u001b[0;34m,\u001b[0m\u001b[0mself\u001b[0m\u001b[0;34m.\u001b[0m\u001b[0mXvsalphapure\u001b[0m\u001b[0;34m)\u001b[0m\u001b[0;34m\u001b[0m\u001b[0m\n\u001b[1;32m    225\u001b[0m         \u001b[0;32melse\u001b[0m\u001b[0;34m:\u001b[0m\u001b[0;34m\u001b[0m\u001b[0m\n\u001b[0;32m--> 226\u001b[0;31m             \u001b[0;32mreturn\u001b[0m\u001b[0;34m(\u001b[0m\u001b[0mself\u001b[0m\u001b[0;34m.\u001b[0m\u001b[0mXvsalphapure\u001b[0m\u001b[0;34m)\u001b[0m\u001b[0;34m\u001b[0m\u001b[0m\n\u001b[0m\u001b[1;32m    227\u001b[0m         \u001b[0;31m#return(self.Xvsalphalambda,self.Xvsalpha)\u001b[0m\u001b[0;34m\u001b[0m\u001b[0;34m\u001b[0m\u001b[0m\n\u001b[1;32m    228\u001b[0m         \u001b[0mprint\u001b[0m\u001b[0;34m(\u001b[0m\u001b[0;34m\"Done with fit\"\u001b[0m\u001b[0;34m)\u001b[0m\u001b[0;34m\u001b[0m\u001b[0m\n",
      "\u001b[0;31mAttributeError\u001b[0m: 'ElasticNetBaseSolver' object has no attribute 'Xvsalphapure'"
     ]
    }
   ],
   "source": [
    "print(\"Setting up Solver\")\n",
    "Solver = h2o4gpu.ElasticNetSolverGPU if(nGPUs>0) else h2o4gpu.ElasticNetSolverCPU\n",
    "#  Solver = h2o4gpu.ElasticNetSolverCPU\n",
    "assert Solver != None, \"Couldn't instantiate ElasticNetSolver\"\n",
    "enet = Solver(sharedA, nThreads, nGPUs, 'c' if fortran else 'r', intercept, standardize, lambda_min_ratio, nLambdas, nFolds, nAlphas)\n",
    "\n",
    "\n",
    "## First, get backend pointers\n",
    "print(\"Uploading\")\n",
    "print(trainX.dtype)\n",
    "print(trainY.dtype)\n",
    "print(validX.dtype)\n",
    "print(validY.dtype)\n",
    "print(trainW.dtype)\n",
    "t0 = time.time()\n",
    "a,b,c,d,e = enet.upload_data(sourceDev, trainX, trainY, validX, validY, trainW)\n",
    "t1 = time.time()\n",
    "print(\"Time to ingest data: %r\" % (t1-t0))\n",
    "\n",
    "\n",
    "## Solve\n",
    "print(\"Solving\")\n",
    "t0 = time.time()\n",
    "precision=0\n",
    "givefullpath=0\n",
    "enet.fitptr(sourceDev, mTrain, n, mvalid, precision, a, b, c, d, e, givefullpath)\n",
    "t1 = time.time()\n",
    "print(\"Done Solving\")\n",
    "print(\"Time to train H2O AI GLM: %r\" % (t1-t0))"
   ]
  },
  {
   "cell_type": "code",
   "execution_count": null,
   "metadata": {
    "collapsed": true
   },
   "outputs": [],
   "source": []
  }
 ],
 "metadata": {
  "kernelspec": {
   "display_name": "Python 3",
   "language": "python",
   "name": "python3"
  },
  "language_info": {
   "codemirror_mode": {
    "name": "ipython",
    "version": 3
   },
   "file_extension": ".py",
   "mimetype": "text/x-python",
   "name": "python",
   "nbconvert_exporter": "python",
   "pygments_lexer": "ipython3",
   "version": "3.6.1"
  }
 },
 "nbformat": 4,
 "nbformat_minor": 2
}
