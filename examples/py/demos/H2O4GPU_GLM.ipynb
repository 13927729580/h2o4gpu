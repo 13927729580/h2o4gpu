{
 "cells": [
  {
   "cell_type": "code",
   "execution_count": 1,
   "metadata": {
    "collapsed": true
   },
   "outputs": [],
   "source": [
    "import h2o4gpu\n",
    "import h2o4gpu.util.import_data as io\n",
    "import h2o4gpu.util.metrics as metrics\n",
    "from tabulate import tabulate\n",
    "import pandas as pd"
   ]
  },
  {
   "cell_type": "code",
   "execution_count": 2,
   "metadata": {},
   "outputs": [
    {
     "name": "stdout",
     "output_type": "stream",
     "text": [
      "Reading Data with Feather\n",
      "(23999, 25)\n",
      "Original m=23999 n=24\n",
      "Size of Train rows=19200 & valid rows=4799\n",
      "Size of Train cols=24 valid cols=24\n",
      "Size of Train cols=25 & valid cols=25 after adding intercept column\n"
     ]
    }
   ],
   "source": [
    "\"\"\"\n",
    "Import Data for H2O GPU Edition\n",
    "\n",
    "This function will read in data and prepare it for H2O4GPU's GLM solver\n",
    "\n",
    "Parameters\n",
    "----------\n",
    "data_path : str\n",
    "             A path to a dataset (The dataset needs to be all numeric)\n",
    "use_pandas : bool\n",
    "              Indicate if Pandas should be used to parse\n",
    "intercept : bool\n",
    "              Indicate if intercept term is needed\n",
    "valid_fraction : float\n",
    "                  Percentage of dataset reserved for a validation set\n",
    "classification : bool\n",
    "                  Classification problem?\n",
    "Returns\n",
    "-------\n",
    "If valid_fraction > 0 it will return the following:\n",
    "    train_x: numpy array of train input variables\n",
    "    train_y: numpy array of y variable\n",
    "    valid_x: numpy array of valid input variables\n",
    "    valid_y: numpy array of valid y variable\n",
    "    family : string that would either be \"logistic\" if classification is set to True, otherwise \"elasticnet\"\n",
    "If valid_fraction == 0 it will return the following:\n",
    "    train_x: numpy array of train input variables\n",
    "    train_y: numpy array of y variable\n",
    "    family : string that would either be \"logistic\" if classification is set to True, otherwise \"elasticnet\"\n",
    "\"\"\"\n",
    "\n",
    "train_x,train_y,valid_x,valid_y,family=io.import_data(data_path=\"../../../data/credit.feather\", \n",
    "                                                        use_pandas=False, \n",
    "                                                        intercept=True,\n",
    "                                                        valid_fraction=0.2,\n",
    "                                                        classification=True)"
   ]
  },
  {
   "cell_type": "code",
   "execution_count": 3,
   "metadata": {},
   "outputs": [
    {
     "name": "stdout",
     "output_type": "stream",
     "text": [
      "Setting up solver\n"
     ]
    }
   ],
   "source": [
    "\"\"\"\n",
    "Set up instance of H2O4GPU's GLM solver with default parameters\n",
    "\n",
    "Need to pass in `family` to indicate problem type to solve\n",
    "\"\"\"\n",
    "print(\"Setting up solver\")\n",
    "model = h2o4gpu.GLM(family=family)"
   ]
  },
  {
   "cell_type": "code",
   "execution_count": 4,
   "metadata": {},
   "outputs": [
    {
     "name": "stdout",
     "output_type": "stream",
     "text": [
      "Solving\n",
      "CPU times: user 16.2 s, sys: 2.72 s, total: 19 s\n",
      "Wall time: 10.2 s\n",
      "Done Solving\n"
     ]
    }
   ],
   "source": [
    "\"\"\"\n",
    "Fit GLM Solver\n",
    "\"\"\"\n",
    "print(\"Solving\")\n",
    "%time model.fit(train_x, train_y)\n",
    "print(\"Done Solving\")"
   ]
  },
  {
   "cell_type": "code",
   "execution_count": 5,
   "metadata": {},
   "outputs": [
    {
     "name": "stdout",
     "output_type": "stream",
     "text": [
      "Logloss per alpha value (-1.00 = missing)\n",
      "\n",
      "|   Alphas |   Train |   CV |   Valid |\n",
      "|---------:|--------:|-----:|--------:|\n",
      "|     0.00 |    0.48 | 0.48 |   -1.00 |\n",
      "|     0.25 |    0.48 | 0.48 |   -1.00 |\n",
      "|     0.50 |    0.48 | 0.48 |   -1.00 |\n",
      "|     0.75 |    0.48 | 0.48 |   -1.00 |\n",
      "|     1.00 |    0.48 | 0.48 |   -1.00 |\n"
     ]
    }
   ],
   "source": [
    "\"\"\"\n",
    "Obtain train error. Logloss for classification and RMSE(Root Mean Squared Error) for regression.\n",
    "\"\"\"\n",
    "error_train = pd.DataFrame(model.error_best,index=model.alphas)\n",
    "if family == \"logistic\":\n",
    "    print(\"Logloss per alpha value (-1.00 = missing)\\n\")\n",
    "else:\n",
    "    print(\"RMSE per alpha value (-1.00 = missing)\\n\")\n",
    "headers = [\"Alphas\",\"Train\", \"CV\", \"Valid\"]\n",
    "print(tabulate(error_train,headers=headers,tablefmt=\"pipe\", floatfmt=\".2f\"))"
   ]
  },
  {
   "cell_type": "code",
   "execution_count": 6,
   "metadata": {},
   "outputs": [
    {
     "name": "stdout",
     "output_type": "stream",
     "text": [
      "Predictions per alpha\n",
      "[[ 0.75797242  0.14470804  0.1429279  ...,  0.27083254  0.24739125\n",
      "   0.17831427]\n",
      " [ 0.76288098  0.14449228  0.1463217  ...,  0.26325116  0.24426968\n",
      "   0.17895791]\n",
      " [ 0.7650798   0.14582309  0.14982352 ...,  0.2563149   0.24326634\n",
      "   0.18063523]\n",
      " [ 0.77001935  0.14513394  0.14949058 ...,  0.25452518  0.24248776\n",
      "   0.17996302]\n",
      " [ 0.76526856  0.14233093  0.15149982 ...,  0.25497651  0.24196053\n",
      "   0.1872876 ]]\n"
     ]
    }
   ],
   "source": [
    "\"\"\"\n",
    "Make predictions on validation set\n",
    "\"\"\"\n",
    "print(\"Predictions per alpha\")\n",
    "preds = model.predict(valid_x, valid_y)\n",
    "print(preds)"
   ]
  },
  {
   "cell_type": "code",
   "execution_count": 7,
   "metadata": {},
   "outputs": [
    {
     "name": "stdout",
     "output_type": "stream",
     "text": [
      "Logloss for alpha =  [ 0.]\n",
      "0.438937751181\n",
      "Logloss for alpha =  [ 0.25]\n",
      "0.439073290807\n",
      "Logloss for alpha =  [ 0.5]\n",
      "0.439257639164\n",
      "Logloss for alpha =  [ 0.75]\n",
      "0.439378545941\n",
      "Logloss for alpha =  [ 1.]\n",
      "0.439377973888\n"
     ]
    }
   ],
   "source": [
    "\"\"\"\n",
    "Get logloss or rmse for validation set per alpha\n",
    "\"\"\"\n",
    "for i in range(model.n_alphas):\n",
    "    if family == \"logistic\":\n",
    "        print(\"Logloss for alpha = \",model.alphas_best[i])\n",
    "        print(metrics.log_loss(valid_y, preds[i]))\n",
    "    else:\n",
    "        print(\"RMSE for alpha = \",model.alphas_best[i])\n",
    "        print(metrics.rmse(valid_y,preds[i]))"
   ]
  },
  {
   "cell_type": "code",
   "execution_count": null,
   "metadata": {
    "collapsed": true
   },
   "outputs": [],
   "source": []
  }
 ],
 "metadata": {
  "kernelspec": {
   "display_name": "env",
   "language": "python",
   "name": "env"
  },
  "language_info": {
   "codemirror_mode": {
    "name": "ipython",
    "version": 3
   },
   "file_extension": ".py",
   "mimetype": "text/x-python",
   "name": "python",
   "nbconvert_exporter": "python",
   "pygments_lexer": "ipython3",
   "version": "3.6.1"
  }
 },
 "nbformat": 4,
 "nbformat_minor": 2
}
