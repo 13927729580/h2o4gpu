{
 "cells": [
  {
   "cell_type": "code",
   "execution_count": 1,
   "metadata": {
    "collapsed": false,
    "deletable": true,
    "editable": true
   },
   "outputs": [
    {
     "name": "stdout",
     "output_type": "stream",
     "text": [
      "\n",
      "Loaded POGS CPU library\n",
      "\n",
      "Loaded POGS GPU library.\n"
     ]
    }
   ],
   "source": [
    "#%reset -f\n",
    "%matplotlib inline\n",
    "import os\n",
    "import sys\n",
    "import pandas as pd\n",
    "import numpy as np\n",
    "import feather\n",
    "import time\n",
    "\n",
    "import scipy, importlib, pprint, matplotlib.pyplot as plt, warnings\n",
    "sys.path.insert(0, \"/home/arno/glmnet_python/lib\")\n",
    "from glmnet import glmnet\n",
    "from glmnetPlot import glmnetPlot \n",
    "from glmnetPrint import glmnetPrint\n",
    "from glmnetCoef import glmnetCoef\n",
    "from glmnetPredict import glmnetPredict\n",
    "from cvglmnet import cvglmnet\n",
    "from cvglmnetCoef import cvglmnetCoef\n",
    "from cvglmnetPlot import cvglmnetPlot\n",
    "from cvglmnetPredict import cvglmnetPredict\n",
    "\n",
    "import pogs as pogs"
   ]
  },
  {
   "cell_type": "markdown",
   "metadata": {
    "deletable": true,
    "editable": true
   },
   "source": [
    "### Import Data Frame and create raw X and y arrays"
   ]
  },
  {
   "cell_type": "code",
   "execution_count": 2,
   "metadata": {
    "collapsed": false,
    "deletable": true,
    "editable": true
   },
   "outputs": [
    {
     "name": "stdout",
     "output_type": "stream",
     "text": [
      "Please download https://drive.google.com/file/d/0By-R0tLVMSykckNocHZPeEN1VU0/view?usp=sharing\n",
      "Time to read data via feather: 4.056962490081787\n"
     ]
    }
   ],
   "source": [
    "t0 = time.time()\n",
    "if not os.path.exists(\"../R/ipums_200-2015.csv\"):\n",
    "    print(\"Please download https://drive.google.com/file/d/0By-R0tLVMSykckNocHZPeEN1VU0/view?usp=sharing\")\n",
    "if not os.path.exists(\"ipums.feather\"):\n",
    "    !R -f ../R/ipums_prep.R \n",
    "df = feather.read_dataframe(\"ipums.feather\")\n",
    "#df = pd.read_csv(\"../R/data.csv\")\n",
    "t1 = time.time()\n",
    "print(\"Time to read data via feather: %r\" % (t1-t0))"
   ]
  },
  {
   "cell_type": "code",
   "execution_count": 3,
   "metadata": {
    "collapsed": false,
    "deletable": true,
    "editable": true
   },
   "outputs": [],
   "source": [
    "target = df.columns[-1] ## last column is the response\n",
    "cols = [c for c in df.columns if c != target]"
   ]
  },
  {
   "cell_type": "code",
   "execution_count": 4,
   "metadata": {
    "collapsed": false,
    "deletable": true,
    "editable": true
   },
   "outputs": [
    {
     "name": "stdout",
     "output_type": "stream",
     "text": [
      "(55776, 9732)\n",
      "(55776,)\n"
     ]
    }
   ],
   "source": [
    "X = np.array(df.ix[:,cols])\n",
    "y = df[target].values\n",
    "print(X.shape)\n",
    "print(y.shape)"
   ]
  },
  {
   "cell_type": "markdown",
   "metadata": {
    "deletable": true,
    "editable": true
   },
   "source": [
    "### H2O AI GLM using the GPU Pointers"
   ]
  },
  {
   "cell_type": "code",
   "execution_count": 6,
   "metadata": {
    "collapsed": false,
    "deletable": true,
    "editable": true
   },
   "outputs": [
    {
     "name": "stdout",
     "output_type": "stream",
     "text": [
      "44620\n",
      "11156\n",
      "9732\n"
     ]
    }
   ],
   "source": [
    "sourceDev = 0\n",
    "gpu=False\n",
    "nGPUs = 2\n",
    "intercept = 1\n",
    "lambda_min_ratio = 1e-4\n",
    "nLambdas = 100\n",
    "nAlphas = 1\n",
    "\n",
    "H = (int)(0.8*X.shape[0])\n",
    "\n",
    "trainX = X[:H,:]\n",
    "trainY = y[:H]\n",
    "\n",
    "validX = X[H:,:]\n",
    "validY = y[H:]\n",
    "\n",
    "## TODO: compute these in C++ (CPU or GPU)\n",
    "lambda_max0 = max(abs(trainX.T.dot(trainY)))\n",
    "sdTrainY = np.sqrt(np.var(trainY))\n",
    "meanTrainY = np.mean(trainY)\n",
    "mTrain = trainX.shape[0]\n",
    "mValid = validX.shape[0]\n",
    "n = trainX.shape[1]\n",
    "print(mTrain)\n",
    "print(mValid)\n",
    "print(n)"
   ]
  },
  {
   "cell_type": "code",
   "execution_count": 7,
   "metadata": {
    "collapsed": false,
    "deletable": true,
    "editable": true
   },
   "outputs": [],
   "source": [
    "Solver = pogs.ElasticNetSolverGPU if gpu else pogs.ElasticNetSolverCPU\n",
    "enet = Solver(nGPUs, 'r', intercept, lambda_min_ratio, nLambdas, nAlphas)"
   ]
  },
  {
   "cell_type": "code",
   "execution_count": 8,
   "metadata": {
    "collapsed": false,
    "deletable": true,
    "editable": true
   },
   "outputs": [
    {
     "name": "stdout",
     "output_type": "stream",
     "text": [
      "c_void_p(140321571274768)\n",
      "c_void_p(41163440)\n",
      "c_void_p(1260111680)\n",
      "c_void_p(4385220864)\n"
     ]
    }
   ],
   "source": [
    "a,b,c,d = enet.upload_data(sourceDev, trainX, trainY, validX, validY)"
   ]
  },
  {
   "cell_type": "code",
   "execution_count": null,
   "metadata": {
    "collapsed": true,
    "deletable": true,
    "editable": true
   },
   "outputs": [],
   "source": [
    "t0 = time.time()\n",
    "enet.fit(sourceDev, mTrain, n, mValid, lambda_max0, sdTrainY, meanTrainY, a, b, c, d)\n",
    "t1 = time.time()\n",
    "print(\"Time to train H2O AI GLM: %r\" % (t1-t0))"
   ]
  },
  {
   "cell_type": "markdown",
   "metadata": {
    "deletable": true,
    "editable": true
   },
   "source": [
    "### GLMNET"
   ]
  },
  {
   "cell_type": "code",
   "execution_count": null,
   "metadata": {
    "collapsed": false,
    "deletable": true,
    "editable": true
   },
   "outputs": [],
   "source": [
    "#glmnet expects scipy arrays\n",
    "Xscipy = scipy.array(X, dtype='float64')\n",
    "yscipy = scipy.array(y, dtype='float64')"
   ]
  },
  {
   "cell_type": "code",
   "execution_count": null,
   "metadata": {
    "collapsed": false,
    "deletable": true,
    "editable": true
   },
   "outputs": [],
   "source": [
    "t0 = time.time()\n",
    "fit = glmnet(x=Xscipy, y=yscipy, family=\"gaussian\", alpha=0.5, nlambda=100)\n",
    "t1 = time.time()\n",
    "print(\"Time to train glmnet: %r\" % (t1-t0))"
   ]
  },
  {
   "cell_type": "code",
   "execution_count": null,
   "metadata": {
    "collapsed": false,
    "deletable": true,
    "editable": true
   },
   "outputs": [],
   "source": [
    "c = glmnetCoef(fit)[1:, -1]\n",
    "print(c)"
   ]
  },
  {
   "cell_type": "code",
   "execution_count": null,
   "metadata": {
    "collapsed": false,
    "deletable": true,
    "editable": true,
    "scrolled": true
   },
   "outputs": [],
   "source": [
    "glmnetPlot(fit, xvar = 'lambda', label = True)"
   ]
  },
  {
   "cell_type": "code",
   "execution_count": null,
   "metadata": {
    "collapsed": false,
    "deletable": true,
    "editable": true
   },
   "outputs": [],
   "source": [
    "glmnetPrint(fit)"
   ]
  },
  {
   "cell_type": "code",
   "execution_count": null,
   "metadata": {
    "collapsed": false,
    "deletable": true,
    "editable": true
   },
   "outputs": [],
   "source": [
    "glmpred = glmnetPredict(fit, Xscipy, ptype = 'response', s = scipy.float64([0.005466])).reshape(-1)"
   ]
  },
  {
   "cell_type": "code",
   "execution_count": null,
   "metadata": {
    "collapsed": false,
    "deletable": true,
    "editable": true
   },
   "outputs": [],
   "source": [
    "yscipy"
   ]
  },
  {
   "cell_type": "code",
   "execution_count": null,
   "metadata": {
    "collapsed": false,
    "deletable": true,
    "editable": true
   },
   "outputs": [],
   "source": [
    "glmpred"
   ]
  },
  {
   "cell_type": "code",
   "execution_count": null,
   "metadata": {
    "collapsed": false,
    "deletable": true,
    "editable": true
   },
   "outputs": [],
   "source": [
    "#pp = np.dot(Xscipy, c) + glmnetCoef(fit)[0, -1]\n",
    "#np.sqrt(np.mean(np.square(pp - yscipy)))"
   ]
  },
  {
   "cell_type": "code",
   "execution_count": null,
   "metadata": {
    "collapsed": false,
    "deletable": true,
    "editable": true
   },
   "outputs": [],
   "source": [
    "pp"
   ]
  },
  {
   "cell_type": "code",
   "execution_count": null,
   "metadata": {
    "collapsed": false,
    "deletable": true,
    "editable": true
   },
   "outputs": [],
   "source": [
    "np.sqrt(np.mean(np.square(glmpred[0] - yscipy)))"
   ]
  },
  {
   "cell_type": "markdown",
   "metadata": {
    "deletable": true,
    "editable": true
   },
   "source": [
    "### Vowpal Wabbit"
   ]
  },
  {
   "cell_type": "code",
   "execution_count": null,
   "metadata": {
    "collapsed": false,
    "deletable": true,
    "editable": true
   },
   "outputs": [],
   "source": [
    "if not os.path.exists(\"train.vw\"):\n",
    "    vw = np.concatenate([y.reshape(y.shape[0],1),X], axis=1)\n",
    "    np.savetxt(\"train.vw\", vw, delimiter=\" \", fmt=\"%g\")\n",
    "    !sed -i -e 's/ / |/' train.vw"
   ]
  },
  {
   "cell_type": "code",
   "execution_count": null,
   "metadata": {
    "collapsed": false,
    "deletable": true,
    "editable": true
   },
   "outputs": [],
   "source": [
    "t0 = time.time()\n",
    "!./vw-8.20170116 -d train.vw #--l1 1 --l2 1 --ftrl --passes 10 --cache_file cache.vw\n",
    "t1 = time.time()\n",
    "print(\"Time to run one model through Vowpal Wabbit: %r\" % (t1-t0))"
   ]
  },
  {
   "cell_type": "code",
   "execution_count": null,
   "metadata": {
    "collapsed": false,
    "deletable": true,
    "editable": true
   },
   "outputs": [],
   "source": [
    "np.sqrt(1639961193.259483)"
   ]
  }
 ],
 "metadata": {
  "kernelspec": {
   "display_name": "Python 3",
   "language": "python",
   "name": "python3"
  },
  "language_info": {
   "codemirror_mode": {
    "name": "ipython",
    "version": 3
   },
   "file_extension": ".py",
   "mimetype": "text/x-python",
   "name": "python",
   "nbconvert_exporter": "python",
   "pygments_lexer": "ipython3",
   "version": "3.6.0"
  }
 },
 "nbformat": 4,
 "nbformat_minor": 2
}
