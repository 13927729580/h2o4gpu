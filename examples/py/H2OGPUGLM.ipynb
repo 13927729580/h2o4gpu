{
 "cells": [
  {
   "cell_type": "code",
   "execution_count": null,
   "metadata": {
    "collapsed": true
   },
   "outputs": [],
   "source": [
    "import h2ogpuml\n",
    "import time\n",
    "import sys\n",
    "import os\n",
    "import feather\n",
    "import numpy as np\n",
    "import pandas as pd"
   ]
  },
  {
   "cell_type": "code",
   "execution_count": null,
   "metadata": {
    "collapsed": true
   },
   "outputs": [],
   "source": [
    "#Path to data\n",
    "\n",
    "#Can import data using pandas or feather.\n",
    "use_pandas = False\n",
    "\n",
    "#Logistic Regression Example\n",
    "#data_file = \"../../data/creditcard.csv\" #If importing using pandas\n",
    "data_file = \"../../data/credit.feather\"\n",
    "\n",
    "#Regression Example\n",
    "#data_file = \"../../../h2oai-prototypes/glm-bench/ipums.csv\" #If importing using pandas\n",
    "#data_file = \"../../data/ipums.feather\"\n",
    "\n",
    "#Define problem type\n",
    "classification = True\n",
    "\n",
    "#Fraction to split validation set by\n",
    "valid_fraction = 0.2\n",
    "\n",
    "#Define if intercept should be used or not\n",
    "intercept = True\n",
    "\n",
    "#Set up parameters for GPU GLM\n",
    "lambda_min_ratio = 1e-9 \n",
    "n_folds = 5\n",
    "n_lambdas = 20\n",
    "n_alphas = 3\n",
    "give_full_path = 0\n",
    "n_gpus = 1\n",
    "verbose = 0\n",
    "family = \"logistic\" if classification else \"elasticnet\""
   ]
  },
  {
   "cell_type": "code",
   "execution_count": null,
   "metadata": {
    "collapsed": true
   },
   "outputs": [],
   "source": [
    "#Util to calculate logloss & rmse\n",
    "\n",
    "def ll(actual, predicted):\n",
    "    \"\"\"\n",
    "    Computes the log likelihood.\n",
    "    This function computes the log likelihood between two numbers,\n",
    "    or for element between a pair of lists or numpy arrays.\n",
    "    Parameters\n",
    "    ----------\n",
    "    actual : int, float, list of numbers, numpy array\n",
    "             The ground truth value\n",
    "    predicted : same type as actual\n",
    "                The predicted value\n",
    "    Returns\n",
    "    -------\n",
    "    score : double or list of doubles\n",
    "            The log likelihood error between actual and predicted\n",
    "    \"\"\"\n",
    "    actual = np.array(actual)\n",
    "    predicted = np.array(predicted)\n",
    "    for i in range(0,predicted.shape[0]):\n",
    "        predicted[i] = min(max(1e-15,predicted[i]),1-1e-15)\n",
    "    err = np.seterr(all='ignore')\n",
    "    score = -(actual*np.log(predicted)+(1-actual)*np.log(1-predicted))\n",
    "    np.seterr(divide=err['divide'], over=err['over'],\n",
    "              under=err['under'], invalid=err['invalid'])\n",
    "    if type(score)==np.ndarray:\n",
    "        score[np.isnan(score)] = 0\n",
    "    else:\n",
    "        if np.isnan(score):\n",
    "            score = 0\n",
    "    return score\n",
    "\n",
    "def log_loss(actual, predicted):\n",
    "    \"\"\"\n",
    "    Computes the log loss.\n",
    "    This function computes the log loss between two lists\n",
    "    of numbers.\n",
    "    Parameters\n",
    "    ----------\n",
    "    actual : list of numbers, numpy array\n",
    "             The ground truth value\n",
    "    predicted : same type as actual\n",
    "                The predicted value\n",
    "    Returns\n",
    "    -------\n",
    "    score : double\n",
    "            The log loss between actual and predicted\n",
    "    \"\"\"\n",
    "    return np.mean(ll(actual, predicted))\n",
    "\n",
    "def se(actual, predicted):\n",
    "    \"\"\"\n",
    "    Computes the squared error.\n",
    "    This function computes the squared error between two numbers,\n",
    "    or for element between a pair of lists or numpy arrays.\n",
    "    Parameters\n",
    "    ----------\n",
    "    actual : int, float, list of numbers, numpy array\n",
    "             The ground truth value\n",
    "    predicted : same type as actual\n",
    "                The predicted value\n",
    "    Returns\n",
    "    -------\n",
    "    score : double or list of doubles\n",
    "            The squared error between actual and predicted\n",
    "    \"\"\"\n",
    "    return np.power(np.array(actual)-np.array(predicted), 2)\n",
    "\n",
    "def mse(actual, predicted):\n",
    "    \"\"\"\n",
    "    Computes the mean squared error.\n",
    "    This function computes the mean squared error between two lists\n",
    "    of numbers.\n",
    "    Parameters\n",
    "    ----------\n",
    "    actual : list of numbers, numpy array\n",
    "             The ground truth value\n",
    "    predicted : same type as actual\n",
    "                The predicted value\n",
    "    Returns\n",
    "    -------\n",
    "    score : double\n",
    "            The mean squared error between actual and predicted\n",
    "    \"\"\"\n",
    "    return np.mean(se(actual, predicted))\n",
    "\n",
    "def rmse(actual, predicted):\n",
    "    \"\"\"\n",
    "    Computes the root mean squared error.\n",
    "    This function computes the root mean squared error between two lists\n",
    "    of numbers.\n",
    "    Parameters\n",
    "    ----------\n",
    "    actual : list of numbers, numpy array\n",
    "             The ground truth value\n",
    "    predicted : same type as actual\n",
    "                The predicted value\n",
    "    Returns\n",
    "    -------\n",
    "    score : double\n",
    "            The root mean squared error between actual and predicted\n",
    "    \"\"\"\n",
    "    return np.sqrt(mse(actual, predicted))"
   ]
  },
  {
   "cell_type": "code",
   "execution_count": null,
   "metadata": {
    "collapsed": true
   },
   "outputs": [],
   "source": [
    "if use_pandas:\n",
    "    print(\"Reading Data with Pandas\")\n",
    "    data = pd.read_csv(data_file)\n",
    "else:\n",
    "    print(\"Reading Data with Feather\")\n",
    "    data = feather.read_dataframe(data_file)\n",
    "print(data.shape)\n",
    "data_x = np.array(data.iloc[:, :data.shape[1] - 1], dtype='float32', order='C')\n",
    "data_y = np.array(data.iloc[:, data.shape[1] - 1], dtype='float32', order='C')"
   ]
  },
  {
   "cell_type": "code",
   "execution_count": null,
   "metadata": {
    "collapsed": true
   },
   "outputs": [],
   "source": [
    "#Setup train/validation set split (assuming form of mxn where m=row count and n=col count)\n",
    "morig = data_x.shape[0]\n",
    "norig = data_x.shape[1]\n",
    "print(\"Original m=%d n=%d\" % (morig, norig))\n",
    "sys.stdout.flush()\n",
    "\n",
    "#Do train/valid split\n",
    "valid_fraction = valid_fraction\n",
    "HO = int(valid_fraction * morig)\n",
    "H = morig - HO\n",
    "print(\"Size of Train rows=%d & valid rows=%d\" % (H, HO))\n",
    "sys.stdout.flush()\n",
    "train_x = np.copy(data_x[0:H, :])\n",
    "train_y = np.copy(data_y[0:H])\n",
    "valid_x = np.copy(data_x[H:morig, :])\n",
    "valid_y = np.copy(data_y[H:morig])\n",
    "print(\"Size of Train cols=%d valid cols=%d\" % (train_x.shape[1], valid_x.shape[1]))\n",
    "\n",
    "#Using intercept\n",
    "if intercept:\n",
    "    train_x = np.hstack([train_x, np.ones((train_x.shape[0], 1), dtype=train_x.dtype)])\n",
    "    valid_x = np.hstack([valid_x, np.ones((valid_x.shape[0], 1), dtype=valid_x.dtype)])\n",
    "    n = train_x.shape[1]\n",
    "    print(\"Size of Train cols=%d & valid cols=%d after adding intercept column\" % (train_x.shape[1], valid_x.shape[1]))"
   ]
  },
  {
   "cell_type": "code",
   "execution_count": null,
   "metadata": {
    "collapsed": true
   },
   "outputs": [],
   "source": [
    "#Choose solver\n",
    "Solver = h2ogpuml.GLM"
   ]
  },
  {
   "cell_type": "code",
   "execution_count": null,
   "metadata": {
    "collapsed": true
   },
   "outputs": [],
   "source": [
    "fortran = train_x.flags.f_contiguous #Row major vs Column major\n",
    "print(\"Setting up solver\")\n",
    "sys.stdout.flush()\n",
    "solver = Solver(\n",
    "              n_gpus=n_gpus, \n",
    "              order='c' if fortran else 'r', \n",
    "              intercept=intercept,\n",
    "              lambda_min_ratio=lambda_min_ratio,\n",
    "              n_lambdas=n_lambdas, \n",
    "              n_folds=n_folds, \n",
    "              n_alphas=n_alphas, \n",
    "              verbose=verbose, \n",
    "              family=family, \n",
    "              give_full_path=give_full_path)"
   ]
  },
  {
   "cell_type": "code",
   "execution_count": null,
   "metadata": {
    "collapsed": true
   },
   "outputs": [],
   "source": [
    "print(\"Solving\")\n",
    "fit = solver.fit(train_x, train_y)\n",
    "print(\"Done Solving\")"
   ]
  },
  {
   "cell_type": "code",
   "execution_count": null,
   "metadata": {
    "collapsed": true
   },
   "outputs": [],
   "source": [
    "# Show something about Xvsalphalambda or Xvsalpha\n",
    "print(\"Xvsalpha\")\n",
    "print(fit.x_vs_alphapure)\n",
    "\n",
    "print(\"np.shape(Xvsalpha)\")\n",
    "print(np.shape(fit.x_vs_alphapure))\n",
    "\n",
    "error_train = fit.error_vs_alpha\n",
    "if classification:\n",
    "    print(\"logloss_train\")\n",
    "else:\n",
    "    print(\"rmse_train\")\n",
    "print(error_train)\n",
    "\n",
    "print(\"Best lambdas\")\n",
    "lambdas = fit.lambdas_best\n",
    "print(lambdas)\n",
    "\n",
    "print(\"Best alphas\")\n",
    "alphas = fit.alphas_best\n",
    "print(alphas)\n",
    "\n",
    "print(\"Best tols\")\n",
    "tols = fit.tols_best\n",
    "print(tols)"
   ]
  },
  {
   "cell_type": "code",
   "execution_count": null,
   "metadata": {
    "collapsed": true
   },
   "outputs": [],
   "source": [
    "#Make predictions on validation\n",
    "preds = fit.predict(valid_x, valid_y)\n",
    "print(preds)"
   ]
  },
  {
   "cell_type": "code",
   "execution_count": null,
   "metadata": {
    "collapsed": true
   },
   "outputs": [],
   "source": [
    "#Get logloss or rmse for validation set per alpha\n",
    "for i in range(n_alphas):\n",
    "    if classification:\n",
    "        print(\"Logloss for alpha = \",alphas[i])\n",
    "        print(log_loss(valid_y, preds[i]))\n",
    "    else:\n",
    "        print(\"RMSE for alpha = \",alphas[i])\n",
    "        print(rmse(valid_y,preds[i]))"
   ]
  },
  {
   "cell_type": "code",
   "execution_count": null,
   "metadata": {
    "collapsed": true
   },
   "outputs": [],
   "source": []
  }
 ],
 "metadata": {
  "kernelspec": {
   "display_name": "jupyter2_Python_3",
   "language": "python",
   "name": "jupyter2_python_3"
  },
  "language_info": {
   "codemirror_mode": {
    "name": "ipython",
    "version": 3
   },
   "file_extension": ".py",
   "mimetype": "text/x-python",
   "name": "python",
   "nbconvert_exporter": "python",
   "pygments_lexer": "ipython3",
   "version": "3.6.1"
  }
 },
 "nbformat": 4,
 "nbformat_minor": 2
}
