{
 "cells": [
  {
   "cell_type": "code",
   "execution_count": null,
   "metadata": {
    "collapsed": false,
    "deletable": true,
    "editable": true
   },
   "outputs": [],
   "source": [
    "#%reset -f\n",
    "%matplotlib inline\n",
    "import os\n",
    "import sys\n",
    "import pandas as pd\n",
    "import numpy as np\n",
    "import feather\n",
    "import time\n",
    "\n",
    "import scipy, importlib, pprint, matplotlib.pyplot as plt, warnings\n",
    "import h2oaiglm as h2oaiglm"
   ]
  },
  {
   "cell_type": "markdown",
   "metadata": {
    "deletable": true,
    "editable": true
   },
   "source": [
    "### Import Data Frame and create raw X and y arrays"
   ]
  },
  {
   "cell_type": "code",
   "execution_count": 7,
   "metadata": {
    "collapsed": false,
    "deletable": true,
    "editable": true
   },
   "outputs": [
    {
     "name": "stdout",
     "output_type": "stream",
     "text": [
      "Please download https://drive.google.com/file/d/0By-R0tLVMSykckNocHZPeEN1VU0/view?usp=sharing\n",
      "Time to read data via feather: 1.9766337871551514\n"
     ]
    }
   ],
   "source": [
    "t0 = time.time()\n",
    "df = pd.read_csv(\"./ipums.txt\", sep=\" \")\n",
    "t1 = time.time()\n",
    "print(\"Time to read data via feather: %r\" % (t1-t0))"
   ]
  },
  {
   "cell_type": "code",
   "execution_count": 8,
   "metadata": {
    "collapsed": false,
    "deletable": true,
    "editable": true
   },
   "outputs": [],
   "source": [
    "target = df.columns[-1] ## last column is the response\n",
    "cols = [c for c in df.columns if c != target]"
   ]
  },
  {
   "cell_type": "code",
   "execution_count": 9,
   "metadata": {
    "collapsed": false,
    "deletable": true,
    "editable": true
   },
   "outputs": [
    {
     "name": "stdout",
     "output_type": "stream",
     "text": [
      "(999, 9732)\n",
      "(999,)\n"
     ]
    }
   ],
   "source": [
    "X = np.array(df.ix[:,cols])\n",
    "y = df[target].values\n",
    "print(X.shape)\n",
    "print(y.shape)"
   ]
  },
  {
   "cell_type": "markdown",
   "metadata": {
    "deletable": true,
    "editable": true
   },
   "source": [
    "### H2O AI GLM using the GPU Pointers"
   ]
  },
  {
   "cell_type": "code",
   "execution_count": 16,
   "metadata": {
    "collapsed": false,
    "deletable": true,
    "editable": true
   },
   "outputs": [
    {
     "name": "stdout",
     "output_type": "stream",
     "text": [
      "799\n",
      "200\n",
      "9732\n"
     ]
    }
   ],
   "source": [
    "sourceDev = 0\n",
    "gpu=True\n",
    "nGPUs = 2\n",
    "intercept = 1\n",
    "lambda_min_ratio = 1e-4\n",
    "nLambdas = 100\n",
    "nAlphas = 1\n",
    "\n",
    "H = (int)(0.8*X.shape[0])\n",
    "\n",
    "trainX = X[:H,:]\n",
    "trainY = y[:H]\n",
    "\n",
    "validX = X[H:,:]\n",
    "validY = y[H:]\n",
    "\n",
    "## TODO: compute these in C++ (CPU or GPU)\n",
    "lambda_max0 = max(abs(trainX.T.dot(trainY)))\n",
    "sdTrainY = np.sqrt(np.var(trainY))\n",
    "meanTrainY = np.mean(trainY)\n",
    "mTrain = trainX.shape[0]\n",
    "mValid = validX.shape[0]\n",
    "n = trainX.shape[1]\n",
    "print(mTrain)\n",
    "print(mValid)\n",
    "print(n)\n",
    "\n",
    "sdValidY = np.sqrt(np.var(validY))\n",
    "meanValidY = np.mean(validY)"
   ]
  },
  {
   "cell_type": "code",
   "execution_count": 13,
   "metadata": {
    "collapsed": false,
    "deletable": true,
    "editable": true
   },
   "outputs": [],
   "source": [
    "Solver = h2oaiglm.ElasticNetSolverGPU if gpu else h2oaiglm.ElasticNetSolverCPU\n",
    "enet = Solver(nGPUs, 'r', intercept, 0, lambda_min_ratio, nLambdas, nAlphas)"
   ]
  },
  {
   "cell_type": "code",
   "execution_count": 14,
   "metadata": {
    "collapsed": false,
    "deletable": true,
    "editable": true
   },
   "outputs": [
    {
     "name": "stdout",
     "output_type": "stream",
     "text": [
      "c_void_p(1112589467648)\n",
      "c_void_p(1112652382208)\n",
      "c_void_p(1112654479360)\n",
      "c_void_p(1112671256576)\n"
     ]
    }
   ],
   "source": [
    "a,b,c,d = enet.upload_data(sourceDev, trainX, trainY, validX, validY)"
   ]
  },
  {
   "cell_type": "code",
   "execution_count": 17,
   "metadata": {
    "collapsed": false,
    "deletable": true,
    "editable": true
   },
   "outputs": [
    {
     "name": "stdout",
     "output_type": "stream",
     "text": [
      "Time to train H2O AI GLM: 0.8264780044555664\n"
     ]
    }
   ],
   "source": [
    "t0 = time.time()\n",
    "enet.fit(sourceDev, mTrain, n, mValid, lambda_max0, sdTrainY, meanTrainY, sdValidY, meanValidY, a, b, c, d)\n",
    "t1 = time.time()\n",
    "print(\"Time to train H2O AI GLM: %r\" % (t1-t0))"
   ]
  }
 ],
 "metadata": {
  "kernelspec": {
   "display_name": "Python 3",
   "language": "python",
   "name": "python3"
  },
  "language_info": {
   "codemirror_mode": {
    "name": "ipython",
    "version": 3
   },
   "file_extension": ".py",
   "mimetype": "text/x-python",
   "name": "python",
   "nbconvert_exporter": "python",
   "pygments_lexer": "ipython3",
   "version": "3.6.0"
  }
 },
 "nbformat": 4,
 "nbformat_minor": 2
}
