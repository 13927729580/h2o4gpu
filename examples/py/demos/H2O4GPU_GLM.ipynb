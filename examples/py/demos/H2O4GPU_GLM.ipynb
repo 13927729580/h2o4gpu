{
 "cells": [
  {
   "cell_type": "code",
   "execution_count": 1,
   "metadata": {
    "collapsed": true
   },
   "outputs": [],
   "source": [
    "import h2o4gpu\n",
    "import h2o4gpu.util.import_data as io\n",
    "import h2o4gpu.util.metrics as metrics"
   ]
  },
  {
   "cell_type": "code",
   "execution_count": 2,
   "metadata": {},
   "outputs": [
    {
     "name": "stdout",
     "output_type": "stream",
     "text": [
      "Reading Data with Feather\n",
      "(23999, 25)\n",
      "Original m=23999 n=24\n",
      "Size of Train rows=19200 & valid rows=4799\n",
      "Size of Train cols=24 valid cols=24\n",
      "Size of Train cols=25 & valid cols=25 after adding intercept column\n"
     ]
    }
   ],
   "source": [
    "#Import data\n",
    "train_x,train_y,valid_x,valid_y,family=io.import_data(data_path=\"../../../data/credit.feather\", \n",
    "                                                        use_pandas=False, \n",
    "                                                        intercept=True,\n",
    "                                                        valid_fraction=0.2,\n",
    "                                                        classification=True)"
   ]
  },
  {
   "cell_type": "code",
   "execution_count": 3,
   "metadata": {},
   "outputs": [
    {
     "name": "stdout",
     "output_type": "stream",
     "text": [
      "Setting up solver\n"
     ]
    }
   ],
   "source": [
    "print(\"Setting up solver\")\n",
    "model = h2o4gpu.GLM(family=family)"
   ]
  },
  {
   "cell_type": "code",
   "execution_count": 4,
   "metadata": {},
   "outputs": [
    {
     "name": "stdout",
     "output_type": "stream",
     "text": [
      "Solving\n",
      "CPU times: user 16.6 s, sys: 3.04 s, total: 19.6 s\n",
      "Wall time: 10.9 s\n",
      "Done Solving\n"
     ]
    }
   ],
   "source": [
    "print(\"Solving\")\n",
    "%time model.fit(train_x, train_y)\n",
    "print(\"Done Solving\")"
   ]
  },
  {
   "cell_type": "code",
   "execution_count": 5,
   "metadata": {},
   "outputs": [
    {
     "name": "stdout",
     "output_type": "stream",
     "text": [
      "logloss_train per alpha value\n",
      "[[ 0.47696531  0.47597048 -1.        ]\n",
      " [ 0.47703049  0.475898   -1.        ]\n",
      " [ 0.47715956  0.47584659 -1.        ]\n",
      " [ 0.47704396  0.47631332 -1.        ]\n",
      " [ 0.47725016  0.47594619 -1.        ]]\n"
     ]
    }
   ],
   "source": [
    "error_train = model.error_best\n",
    "if family == \"logistic\":\n",
    "    print(\"logloss_train per alpha value\")\n",
    "else:\n",
    "    print(\"rmse_train per alpha value\")\n",
    "print(error_train)"
   ]
  },
  {
   "cell_type": "code",
   "execution_count": 6,
   "metadata": {},
   "outputs": [
    {
     "name": "stdout",
     "output_type": "stream",
     "text": [
      "[[ 0.75993925  0.14501247  0.14428981 ...,  0.26909894  0.24600652\n",
      "   0.17800038]\n",
      " [ 0.76271158  0.14371195  0.14586622 ...,  0.2605716   0.2418403\n",
      "   0.17697804]\n",
      " [ 0.7650798   0.14582309  0.14982352 ...,  0.2563149   0.24326634\n",
      "   0.18063523]\n",
      " [ 0.77001935  0.14513394  0.14949058 ...,  0.25452518  0.24248776\n",
      "   0.17996302]\n",
      " [ 0.76569271  0.14227264  0.15259971 ...,  0.25231588  0.24102946\n",
      "   0.18827927]]\n"
     ]
    }
   ],
   "source": [
    "#Make predictions on validation\n",
    "preds = model.predict(valid_x, valid_y)\n",
    "print(preds)"
   ]
  },
  {
   "cell_type": "code",
   "execution_count": 7,
   "metadata": {},
   "outputs": [
    {
     "name": "stdout",
     "output_type": "stream",
     "text": [
      "Logloss for alpha =  [ 0.]\n",
      "0.438971796937\n",
      "Logloss for alpha =  [ 0.25]\n",
      "0.4389502099\n",
      "Logloss for alpha =  [ 0.5]\n",
      "0.439257639164\n",
      "Logloss for alpha =  [ 0.75]\n",
      "0.439378545941\n",
      "Logloss for alpha =  [ 1.]\n",
      "0.439477704584\n"
     ]
    }
   ],
   "source": [
    "#Get logloss or rmse for validation set per alpha\n",
    "for i in range(model.n_alphas):\n",
    "    if family == \"logistic\":\n",
    "        print(\"Logloss for alpha = \",model.alphas_best[i])\n",
    "        print(metrics.log_loss(valid_y, preds[i]))\n",
    "    else:\n",
    "        print(\"RMSE for alpha = \",model.alphas_best[i])\n",
    "        print(metrics.rmse(valid_y,preds[i]))"
   ]
  }
 ],
 "metadata": {
  "kernelspec": {
   "display_name": "env",
   "language": "python",
   "name": "env"
  },
  "language_info": {
   "codemirror_mode": {
    "name": "ipython",
    "version": 3
   },
   "file_extension": ".py",
   "mimetype": "text/x-python",
   "name": "python",
   "nbconvert_exporter": "python",
   "pygments_lexer": "ipython3",
   "version": "3.6.1"
  }
 },
 "nbformat": 4,
 "nbformat_minor": 2
}
