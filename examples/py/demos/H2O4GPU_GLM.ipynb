{
 "cells": [
  {
   "cell_type": "code",
   "execution_count": 1,
   "metadata": {
    "collapsed": true
   },
   "outputs": [],
   "source": [
    "import h2o4gpu\n",
    "import h2o4gpu.util.import_data as io\n",
    "import h2o4gpu.util.metrics as metrics\n",
    "from tabulate import tabulate\n",
    "import pandas as pd"
   ]
  },
  {
   "cell_type": "code",
   "execution_count": 2,
   "metadata": {},
   "outputs": [
    {
     "name": "stdout",
     "output_type": "stream",
     "text": [
      "Reading Data with Pandas\n",
      "(23999, 25)\n",
      "Original m=23999 n=24\n",
      "Size of Train rows=19200 & valid rows=4799\n",
      "Size of Train cols=24 valid cols=24\n",
      "Size of Train cols=25 & valid cols=25 after adding intercept column\n"
     ]
    }
   ],
   "source": [
    "\"\"\"\n",
    "Import Data for H2O GPU Edition\n",
    "\n",
    "This function will read in data and prepare it for H2O4GPU's GLM solver\n",
    "\n",
    "Parameters\n",
    "----------\n",
    "data_path : str\n",
    "             A path to a dataset (The dataset needs to be all numeric)\n",
    "use_pandas : bool\n",
    "              Indicate if Pandas should be used to parse\n",
    "intercept : bool\n",
    "              Indicate if intercept term is needed\n",
    "valid_fraction : float\n",
    "                  Percentage of dataset reserved for a validation set\n",
    "classification : bool\n",
    "                  Classification problem?\n",
    "Returns\n",
    "-------\n",
    "If valid_fraction > 0 it will return the following:\n",
    "    train_x: numpy array of train input variables\n",
    "    train_y: numpy array of y variable\n",
    "    valid_x: numpy array of valid input variables\n",
    "    valid_y: numpy array of valid y variable\n",
    "    family : string that would either be \"logistic\" if classification is set to True, otherwise \"elasticnet\"\n",
    "If valid_fraction == 0 it will return the following:\n",
    "    train_x: numpy array of train input variables\n",
    "    train_y: numpy array of y variable\n",
    "    family : string that would either be \"logistic\" if classification is set to True, otherwise \"elasticnet\"\n",
    "\"\"\"\n",
    "\n",
    "train_x,train_y,valid_x,valid_y,family=io.import_data(data_path=\"https://s3.amazonaws.com/h2o-public-test-data/h2o4gpu/open_data/creditcard.csv\", \n",
    "                                                        use_pandas=True, \n",
    "                                                        intercept=True,\n",
    "                                                        valid_fraction=0.2,\n",
    "                                                        classification=True)"
   ]
  },
  {
   "cell_type": "code",
   "execution_count": 3,
   "metadata": {},
   "outputs": [
    {
     "name": "stdout",
     "output_type": "stream",
     "text": [
      "Setting up solver\n"
     ]
    }
   ],
   "source": [
    "\"\"\"\n",
    "Set up instance of H2O4GPU's GLM solver with default parameters\n",
    "\n",
    "Need to pass in `family` to indicate problem type to solve\n",
    "\"\"\"\n",
    "print(\"Setting up solver\")\n",
    "model = h2o4gpu.GLM(family=family)"
   ]
  },
  {
   "cell_type": "code",
   "execution_count": 4,
   "metadata": {},
   "outputs": [
    {
     "name": "stdout",
     "output_type": "stream",
     "text": [
      "Solving\n",
      "CPU times: user 18.4 s, sys: 3.06 s, total: 21.4 s\n",
      "Wall time: 11.6 s\n",
      "Done Solving\n",
      "Logloss per alpha value (-1.00 = missing)\n",
      "\n",
      "|   Alphas |   Train |   CV |   Valid |\n",
      "|---------:|--------:|-----:|--------:|\n",
      "|     0.00 |    0.48 | 0.48 |   -1.00 |\n",
      "|     0.25 |    0.48 | 0.48 |   -1.00 |\n",
      "|     0.50 |    0.48 | 0.48 |   -1.00 |\n",
      "|     0.75 |    0.48 | 0.48 |   -1.00 |\n",
      "|     1.00 |    0.48 | 0.48 |   -1.00 |\n"
     ]
    }
   ],
   "source": [
    "\"\"\"\n",
    "Fit GLM Solver\n",
    "\"\"\"\n",
    "print(\"Solving\")\n",
    "%time model.fit(train_x, train_y)\n",
    "print(\"Done Solving\")\n",
    "model.summary()"
   ]
  },
  {
   "cell_type": "code",
   "execution_count": 5,
   "metadata": {},
   "outputs": [
    {
     "name": "stdout",
     "output_type": "stream",
     "text": [
      "Predictions per alpha\n",
      "[[ 0.76388556  0.14441717  0.14333536 ...,  0.26896134  0.24531743\n",
      "   0.17781904]\n",
      " [ 0.76395208  0.14515376  0.145907   ...,  0.26310593  0.24350125\n",
      "   0.17840983]\n",
      " [ 0.76357019  0.14502008  0.14914224 ...,  0.25567541  0.24099426\n",
      "   0.18065022]\n",
      " [ 0.76870704  0.14425999  0.1522073  ...,  0.25546509  0.24379064\n",
      "   0.1854841 ]\n",
      " [ 0.76885712  0.14338331  0.14736274 ...,  0.25683913  0.24017     0.17752925]]\n"
     ]
    }
   ],
   "source": [
    "\"\"\"\n",
    "Make predictions on validation set\n",
    "\"\"\"\n",
    "print(\"Predictions per alpha\")\n",
    "preds = model.predict(valid_x, valid_y)\n",
    "print(preds)"
   ]
  },
  {
   "cell_type": "code",
   "execution_count": 6,
   "metadata": {},
   "outputs": [
    {
     "name": "stdout",
     "output_type": "stream",
     "text": [
      "Logloss for alpha =  [ 0.]\n",
      "0.438981\n",
      "Logloss for alpha =  [ 0.25]\n",
      "0.439003\n",
      "Logloss for alpha =  [ 0.5]\n",
      "0.439169\n",
      "Logloss for alpha =  [ 0.75]\n",
      "0.439402\n",
      "Logloss for alpha =  [ 1.]\n",
      "0.439157\n"
     ]
    }
   ],
   "source": [
    "\"\"\"\n",
    "Get logloss or rmse for validation set per alpha\n",
    "\"\"\"\n",
    "for i in range(model.n_alphas):\n",
    "    if family == \"logistic\":\n",
    "        print(\"Logloss for alpha = \",model.alphas_best[i])\n",
    "        print(metrics.log_loss(valid_y, preds[i]))\n",
    "    else:\n",
    "        print(\"RMSE for alpha = \",model.alphas_best[i])\n",
    "        print(metrics.rmse(valid_y,preds[i]))"
   ]
  }
 ],
 "metadata": {
  "kernelspec": {
   "display_name": "env",
   "language": "python",
   "name": "env"
  },
  "language_info": {
   "codemirror_mode": {
    "name": "ipython",
    "version": 3
   },
   "file_extension": ".py",
   "mimetype": "text/x-python",
   "name": "python",
   "nbconvert_exporter": "python",
   "pygments_lexer": "ipython3",
   "version": "3.6.1"
  }
 },
 "nbformat": 4,
 "nbformat_minor": 2
}
