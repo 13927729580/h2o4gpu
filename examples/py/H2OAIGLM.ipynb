{
 "cells": [
  {
   "cell_type": "code",
   "execution_count": 1,
   "metadata": {
    "collapsed": false,
    "deletable": true,
    "editable": true
   },
   "outputs": [
    {
     "name": "stdout",
     "output_type": "stream",
     "text": [
      "\n",
      "Loaded POGS CPU library\n",
      "\n",
      "Loaded POGS GPU library.\n"
     ]
    }
   ],
   "source": [
    "#%reset -f\n",
    "%matplotlib inline\n",
    "\n",
    "import sys\n",
    "import pandas as pd\n",
    "import numpy as np\n",
    "import feather\n",
    "import time\n",
    "\n",
    "import scipy, importlib, pprint, matplotlib.pyplot as plt, warnings\n",
    "sys.path.insert(0, \"/home/arno/glmnet_python/lib\")\n",
    "from glmnet import glmnet\n",
    "from glmnetPlot import glmnetPlot \n",
    "from glmnetPrint import glmnetPrint\n",
    "from glmnetCoef import glmnetCoef\n",
    "from glmnetPredict import glmnetPredict\n",
    "from cvglmnet import cvglmnet\n",
    "from cvglmnetCoef import cvglmnetCoef\n",
    "from cvglmnetPlot import cvglmnetPlot\n",
    "from cvglmnetPredict import cvglmnetPredict\n",
    "\n",
    "import pogs as pogs"
   ]
  },
  {
   "cell_type": "markdown",
   "metadata": {
    "deletable": true,
    "editable": true
   },
   "source": [
    "### Import Data Frame and create raw X and y arrays"
   ]
  },
  {
   "cell_type": "code",
   "execution_count": 2,
   "metadata": {
    "collapsed": false,
    "deletable": true,
    "editable": true
   },
   "outputs": [
    {
     "name": "stdout",
     "output_type": "stream",
     "text": [
      "Time to read data via feather: 0.008074522018432617\n"
     ]
    }
   ],
   "source": [
    "t0 = time.time()\n",
    "#df = feather.read_dataframe(\"ipums.feather\") ## created by ../R/ipums_prep.R\n",
    "df = pd.read_csv(\"../R/data.csv\")\n",
    "t1 = time.time()\n",
    "print(\"Time to read data via feather: %r\" % (t1-t0))"
   ]
  },
  {
   "cell_type": "code",
   "execution_count": 3,
   "metadata": {
    "collapsed": false,
    "deletable": true,
    "editable": true
   },
   "outputs": [],
   "source": [
    "target = df.columns[-1] ## last column is the response\n",
    "cols = [c for c in df.columns if c != target]"
   ]
  },
  {
   "cell_type": "code",
   "execution_count": 4,
   "metadata": {
    "collapsed": false,
    "deletable": true,
    "editable": true
   },
   "outputs": [
    {
     "name": "stdout",
     "output_type": "stream",
     "text": [
      "(9, 10)\n",
      "(9,)\n"
     ]
    }
   ],
   "source": [
    "X = np.array(df.ix[:,cols])\n",
    "y = df[target].values\n",
    "print(X.shape)\n",
    "print(y.shape)"
   ]
  },
  {
   "cell_type": "markdown",
   "metadata": {
    "deletable": true,
    "editable": true
   },
   "source": [
    "### H2O AI GLM"
   ]
  },
  {
   "cell_type": "code",
   "execution_count": 5,
   "metadata": {
    "collapsed": false,
    "deletable": true,
    "editable": true
   },
   "outputs": [],
   "source": [
    "import elastic_net as enet"
   ]
  },
  {
   "cell_type": "code",
   "execution_count": 6,
   "metadata": {
    "collapsed": false,
    "deletable": true,
    "editable": true
   },
   "outputs": [
    {
     "name": "stdout",
     "output_type": "stream",
     "text": [
      "shutting down... POGS_work freed in C++\n",
      "Time to train H2O AI GLM: 1.7703545093536377\n"
     ]
    }
   ],
   "source": [
    "t0 = time.time()\n",
    "enet.ElasticNet(X, y, gpu=True, double_precision=True, nlambda=100, alpha=0.5)\n",
    "t1 = time.time()\n",
    "print(\"Time to train H2O AI GLM: %r\" % (t1-t0))"
   ]
  },
  {
   "cell_type": "markdown",
   "metadata": {
    "deletable": true,
    "editable": true
   },
   "source": [
    "### H2O AI GLM using the GPU Pointers"
   ]
  },
  {
   "cell_type": "code",
   "execution_count": 7,
   "metadata": {
    "collapsed": false,
    "deletable": true,
    "editable": true
   },
   "outputs": [
    {
     "ename": "NameError",
     "evalue": "name 'upload_to_gpu' is not defined",
     "output_type": "error",
     "traceback": [
      "\u001b[0;31m---------------------------------------------------------------------------\u001b[0m",
      "\u001b[0;31mNameError\u001b[0m                                 Traceback (most recent call last)",
      "\u001b[0;32m<ipython-input-7-e774b8df0282>\u001b[0m in \u001b[0;36m<module>\u001b[0;34m()\u001b[0m\n\u001b[0;32m----> 1\u001b[0;31m \u001b[0mgpu_ptr_X\u001b[0m\u001b[0;34m,\u001b[0m \u001b[0mgpu_ptr_y\u001b[0m \u001b[0;34m=\u001b[0m \u001b[0mupload_to_gpu\u001b[0m\u001b[0;34m(\u001b[0m\u001b[0mX\u001b[0m\u001b[0;34m,\u001b[0m \u001b[0my\u001b[0m\u001b[0;34m,\u001b[0m \u001b[0mw_dev\u001b[0m\u001b[0;34m)\u001b[0m\u001b[0;34m\u001b[0m\u001b[0m\n\u001b[0m\u001b[1;32m      2\u001b[0m \u001b[0mh2oglm\u001b[0m \u001b[0;34m=\u001b[0m \u001b[0mH2OAIGLM\u001b[0m\u001b[0;34m(\u001b[0m\u001b[0mvalid_fraction\u001b[0m\u001b[0;34m=\u001b[0m\u001b[0;36m0.2\u001b[0m\u001b[0;34m,\u001b[0m \u001b[0malpha\u001b[0m\u001b[0;34m=\u001b[0m\u001b[0;34m[\u001b[0m\u001b[0;36m0\u001b[0m\u001b[0;34m,\u001b[0m\u001b[0;36m0.1\u001b[0m\u001b[0;34m,\u001b[0m\u001b[0;36m0.2\u001b[0m\u001b[0;34m]\u001b[0m\u001b[0;34m,\u001b[0m \u001b[0mlambda_search\u001b[0m\u001b[0;34m=\u001b[0m\u001b[0;32mTrue\u001b[0m\u001b[0;34m,\u001b[0m \u001b[0mnGPUs\u001b[0m\u001b[0;34m=\u001b[0m\u001b[0;36m8\u001b[0m\u001b[0;34m)\u001b[0m\u001b[0;34m\u001b[0m\u001b[0m\n\u001b[1;32m      3\u001b[0m \u001b[0mh2oglm\u001b[0m\u001b[0;34m.\u001b[0m\u001b[0mfit\u001b[0m\u001b[0;34m(\u001b[0m\u001b[0mgpu_ptr_X\u001b[0m\u001b[0;34m,\u001b[0m \u001b[0mgpu_ptr_y\u001b[0m\u001b[0;34m,\u001b[0m \u001b[0mw_dev\u001b[0m\u001b[0;34m)\u001b[0m\u001b[0;34m\u001b[0m\u001b[0m\n",
      "\u001b[0;31mNameError\u001b[0m: name 'upload_to_gpu' is not defined"
     ]
    }
   ],
   "source": [
    "gpu_ptr_X, gpu_ptr_y = upload_to_gpu(X, y, w_dev)\n",
    "h2oglm = H2OAIGLM(valid_fraction=0.2, alpha=[0,0.1,0.2], lambda_search=True, nGPUs=8)\n",
    "h2oglm.fit(gpu_ptr_X, gpu_ptr_y, w_dev)"
   ]
  },
  {
   "cell_type": "markdown",
   "metadata": {
    "deletable": true,
    "editable": true
   },
   "source": [
    "### GLMNET"
   ]
  },
  {
   "cell_type": "code",
   "execution_count": 8,
   "metadata": {
    "collapsed": false,
    "deletable": true,
    "editable": true
   },
   "outputs": [],
   "source": [
    "#glmnet expects scipy arrays\n",
    "Xscipy = scipy.array(X, dtype='float64')\n",
    "yscipy = scipy.array(y, dtype='float64')"
   ]
  },
  {
   "cell_type": "code",
   "execution_count": 9,
   "metadata": {
    "collapsed": false,
    "deletable": true,
    "editable": true
   },
   "outputs": [
    {
     "name": "stdout",
     "output_type": "stream",
     "text": [
      "Time to train glmnet: 0.00491642951965332\n"
     ]
    }
   ],
   "source": [
    "t0 = time.time()\n",
    "fit = glmnet(x=Xscipy, y=yscipy, family=\"gaussian\", alpha=0.5, nlambda=100)\n",
    "t1 = time.time()\n",
    "print(\"Time to train glmnet: %r\" % (t1-t0))"
   ]
  },
  {
   "cell_type": "code",
   "execution_count": 20,
   "metadata": {
    "collapsed": false,
    "deletable": true,
    "editable": true
   },
   "outputs": [
    {
     "name": "stdout",
     "output_type": "stream",
     "text": [
      "[ 0.14130021  2.02116009 -0.46862207  0.44434635  0.1401076  -0.16845575\n",
      " -0.64726148 -0.18690053 -0.65737407 -1.40186337]\n"
     ]
    }
   ],
   "source": [
    "c = glmnetCoef(fit)[1:, -1]\n",
    "print(c)"
   ]
  },
  {
   "cell_type": "code",
   "execution_count": 11,
   "metadata": {
    "collapsed": false,
    "deletable": true,
    "editable": true,
    "scrolled": true
   },
   "outputs": [
    {
     "data": {
      "image/png": "[encoded data removed]",
      "text/plain": [
       "<matplotlib.figure.Figure at 0x7ff886a21470>"
      ]
     },
     "metadata": {},
     "output_type": "display_data"
    },
    {
     "data": {
      "text/plain": [
       "{'ax1': <matplotlib.axes._subplots.AxesSubplot at 0x7ff87dab1208>,\n",
       " 'ax2': <matplotlib.axes._subplots.AxesSubplot at 0x7ff87d7c9470>,\n",
       " 'fig': <matplotlib.figure.Figure at 0x7ff886a21470>}"
      ]
     },
     "execution_count": 11,
     "metadata": {},
     "output_type": "execute_result"
    }
   ],
   "source": [
    "glmnetPlot(fit, xvar = 'lambda', label = True)"
   ]
  },
  {
   "cell_type": "code",
   "execution_count": 12,
   "metadata": {
    "collapsed": false,
    "deletable": true,
    "editable": true
   },
   "outputs": [
    {
     "name": "stdout",
     "output_type": "stream",
     "text": [
      "\t df \t %dev \t lambdau\n",
      "\n",
      "0 \t 0.000000 \t 0.000000 \t 0.546594\n",
      "1 \t 1.000000 \t 0.017763 \t 0.521751\n",
      "2 \t 1.000000 \t 0.034744 \t 0.498036\n",
      "3 \t 1.000000 \t 0.050955 \t 0.475400\n",
      "4 \t 1.000000 \t 0.066409 \t 0.453792\n",
      "5 \t 1.000000 \t 0.081119 \t 0.433167\n",
      "6 \t 1.000000 \t 0.095102 \t 0.413479\n",
      "7 \t 1.000000 \t 0.108377 \t 0.394685\n",
      "8 \t 1.000000 \t 0.120961 \t 0.376746\n",
      "9 \t 3.000000 \t 0.134949 \t 0.359623\n",
      "10 \t 4.000000 \t 0.160340 \t 0.343277\n",
      "11 \t 6.000000 \t 0.196748 \t 0.327675\n",
      "12 \t 6.000000 \t 0.232734 \t 0.312781\n",
      "13 \t 6.000000 \t 0.266536 \t 0.298565\n",
      "14 \t 7.000000 \t 0.298525 \t 0.284995\n",
      "15 \t 7.000000 \t 0.329096 \t 0.272041\n",
      "16 \t 7.000000 \t 0.357688 \t 0.259677\n",
      "17 \t 6.000000 \t 0.384315 \t 0.247874\n",
      "18 \t 6.000000 \t 0.409098 \t 0.236608\n",
      "19 \t 6.000000 \t 0.432167 \t 0.225853\n",
      "20 \t 6.000000 \t 0.453644 \t 0.215588\n",
      "21 \t 6.000000 \t 0.473616 \t 0.205789\n",
      "22 \t 6.000000 \t 0.492174 \t 0.196436\n",
      "23 \t 6.000000 \t 0.509406 \t 0.187508\n",
      "24 \t 6.000000 \t 0.525396 \t 0.178985\n",
      "25 \t 6.000000 \t 0.540225 \t 0.170850\n",
      "26 \t 6.000000 \t 0.553968 \t 0.163084\n",
      "27 \t 6.000000 \t 0.566696 \t 0.155672\n",
      "28 \t 6.000000 \t 0.578478 \t 0.148597\n",
      "29 \t 6.000000 \t 0.589378 \t 0.141843\n",
      "30 \t 6.000000 \t 0.599456 \t 0.135396\n",
      "31 \t 6.000000 \t 0.608770 \t 0.129242\n",
      "32 \t 7.000000 \t 0.617406 \t 0.123367\n",
      "33 \t 7.000000 \t 0.626479 \t 0.117760\n",
      "34 \t 7.000000 \t 0.634954 \t 0.112408\n",
      "35 \t 8.000000 \t 0.644173 \t 0.107299\n",
      "36 \t 8.000000 \t 0.653374 \t 0.102422\n",
      "37 \t 8.000000 \t 0.662071 \t 0.097767\n",
      "38 \t 8.000000 \t 0.670249 \t 0.093323\n",
      "39 \t 8.000000 \t 0.677973 \t 0.089081\n",
      "40 \t 8.000000 \t 0.685279 \t 0.085032\n",
      "41 \t 8.000000 \t 0.692236 \t 0.081168\n",
      "42 \t 8.000000 \t 0.698803 \t 0.077478\n",
      "43 \t 8.000000 \t 0.705036 \t 0.073957\n",
      "44 \t 7.000000 \t 0.710513 \t 0.070595\n",
      "45 \t 7.000000 \t 0.715587 \t 0.067387\n",
      "46 \t 8.000000 \t 0.722839 \t 0.064324\n",
      "47 \t 8.000000 \t 0.730036 \t 0.061400\n",
      "48 \t 8.000000 \t 0.736875 \t 0.058610\n",
      "49 \t 8.000000 \t 0.743323 \t 0.055946\n",
      "50 \t 8.000000 \t 0.749432 \t 0.053403\n",
      "51 \t 8.000000 \t 0.755148 \t 0.050976\n",
      "52 \t 8.000000 \t 0.760524 \t 0.048659\n",
      "53 \t 8.000000 \t 0.765578 \t 0.046447\n",
      "54 \t 8.000000 \t 0.770328 \t 0.044336\n",
      "55 \t 8.000000 \t 0.774791 \t 0.042321\n",
      "56 \t 8.000000 \t 0.778980 \t 0.040397\n",
      "57 \t 9.000000 \t 0.783617 \t 0.038561\n",
      "58 \t 9.000000 \t 0.794546 \t 0.036808\n",
      "59 \t 9.000000 \t 0.805346 \t 0.035135\n",
      "60 \t 9.000000 \t 0.815707 \t 0.033539\n",
      "61 \t 9.000000 \t 0.825671 \t 0.032014\n",
      "62 \t 9.000000 \t 0.835242 \t 0.030559\n",
      "63 \t 9.000000 \t 0.844507 \t 0.029170\n",
      "64 \t 9.000000 \t 0.853310 \t 0.027844\n",
      "65 \t 9.000000 \t 0.861719 \t 0.026579\n",
      "66 \t 9.000000 \t 0.869773 \t 0.025371\n",
      "67 \t 9.000000 \t 0.877465 \t 0.024218\n",
      "68 \t 9.000000 \t 0.884802 \t 0.023117\n",
      "69 \t 9.000000 \t 0.891792 \t 0.022066\n",
      "70 \t 9.000000 \t 0.898511 \t 0.021063\n",
      "71 \t 9.000000 \t 0.904835 \t 0.020106\n",
      "72 \t 9.000000 \t 0.910822 \t 0.019192\n",
      "73 \t 9.000000 \t 0.916513 \t 0.018320\n",
      "74 \t 9.000000 \t 0.921904 \t 0.017487\n",
      "75 \t 9.000000 \t 0.927005 \t 0.016692\n",
      "76 \t 9.000000 \t 0.931811 \t 0.015934\n",
      "77 \t 10.000000 \t 0.936472 \t 0.015209\n",
      "78 \t 10.000000 \t 0.940901 \t 0.014518\n",
      "79 \t 10.000000 \t 0.945144 \t 0.013858\n",
      "80 \t 10.000000 \t 0.949119 \t 0.013228\n",
      "81 \t 10.000000 \t 0.952845 \t 0.012627\n",
      "82 \t 10.000000 \t 0.956318 \t 0.012053\n",
      "83 \t 10.000000 \t 0.959517 \t 0.011505\n",
      "84 \t 10.000000 \t 0.962539 \t 0.010982\n",
      "85 \t 10.000000 \t 0.965357 \t 0.010483\n",
      "86 \t 10.000000 \t 0.967982 \t 0.010007\n",
      "87 \t 10.000000 \t 0.970424 \t 0.009552\n",
      "88 \t 10.000000 \t 0.972700 \t 0.009118\n",
      "89 \t 10.000000 \t 0.974809 \t 0.008703\n",
      "90 \t 10.000000 \t 0.976734 \t 0.008308\n",
      "91 \t 10.000000 \t 0.978547 \t 0.007930\n",
      "92 \t 10.000000 \t 0.980231 \t 0.007570\n",
      "93 \t 10.000000 \t 0.981797 \t 0.007226\n",
      "94 \t 10.000000 \t 0.983242 \t 0.006897\n",
      "95 \t 10.000000 \t 0.984551 \t 0.006584\n",
      "96 \t 10.000000 \t 0.985785 \t 0.006285\n",
      "97 \t 10.000000 \t 0.986932 \t 0.005999\n",
      "98 \t 10.000000 \t 0.987988 \t 0.005726\n",
      "99 \t 10.000000 \t 0.988940 \t 0.005466\n"
     ]
    }
   ],
   "source": [
    "glmnetPrint(fit)"
   ]
  },
  {
   "cell_type": "code",
   "execution_count": 13,
   "metadata": {
    "collapsed": false,
    "deletable": true,
    "editable": true
   },
   "outputs": [],
   "source": [
    "glmpred = glmnetPredict(fit, Xscipy, ptype = 'response', s = scipy.float64([0.005466])).reshape(-1)"
   ]
  },
  {
   "cell_type": "code",
   "execution_count": 17,
   "metadata": {
    "collapsed": false,
    "deletable": true,
    "editable": true
   },
   "outputs": [
    {
     "data": {
      "text/plain": [
       "array([ 1.,  1.,  0.,  1.,  0.,  0.,  0.,  1.,  1.])"
      ]
     },
     "execution_count": 17,
     "metadata": {},
     "output_type": "execute_result"
    }
   ],
   "source": [
    "yscipy"
   ]
  },
  {
   "cell_type": "code",
   "execution_count": 35,
   "metadata": {
    "collapsed": false,
    "deletable": true,
    "editable": true
   },
   "outputs": [
    {
     "data": {
      "text/plain": [
       "array([-0.01617849, -1.00878444, -0.63113444, -0.74771879, -0.81429673,\n",
       "       -1.51826523, -1.0419459 , -1.74498552, -0.21840238])"
      ]
     },
     "execution_count": 35,
     "metadata": {},
     "output_type": "execute_result"
    }
   ],
   "source": [
    "glmpred"
   ]
  },
  {
   "cell_type": "code",
   "execution_count": 36,
   "metadata": {
    "collapsed": false
   },
   "outputs": [
    {
     "data": {
      "text/plain": [
       "1.5489820112856223"
      ]
     },
     "execution_count": 36,
     "metadata": {},
     "output_type": "execute_result"
    }
   ],
   "source": [
    "#pp = np.dot(Xscipy, c) + glmnetCoef(fit)[0, -1]\n",
    "#np.sqrt(np.mean(np.square(pp - yscipy)))"
   ]
  },
  {
   "cell_type": "code",
   "execution_count": 38,
   "metadata": {
    "collapsed": false
   },
   "outputs": [
    {
     "data": {
      "text/plain": [
       "array([-0.01618126, -1.00878928, -0.63113765, -0.74772239, -0.81430044,\n",
       "       -1.51826935, -1.04194957, -1.74499234, -0.21840532])"
      ]
     },
     "execution_count": 38,
     "metadata": {},
     "output_type": "execute_result"
    }
   ],
   "source": [
    "pp"
   ]
  },
  {
   "cell_type": "code",
   "execution_count": 39,
   "metadata": {
    "collapsed": false,
    "deletable": true,
    "editable": true
   },
   "outputs": [
    {
     "data": {
      "text/plain": [
       "0.75749151504117185"
      ]
     },
     "execution_count": 39,
     "metadata": {},
     "output_type": "execute_result"
    }
   ],
   "source": [
    "np.sqrt(np.mean(np.square(glmpred[0] - yscipy)))"
   ]
  }
 ],
 "metadata": {
  "kernelspec": {
   "display_name": "Python 3",
   "language": "python",
   "name": "python3"
  },
  "language_info": {
   "codemirror_mode": {
    "name": "ipython",
    "version": 3
   },
   "file_extension": ".py",
   "mimetype": "text/x-python",
   "name": "python",
   "nbconvert_exporter": "python",
   "pygments_lexer": "ipython3",
   "version": "3.6.0"
  }
 },
 "nbformat": 4,
 "nbformat_minor": 2
}
